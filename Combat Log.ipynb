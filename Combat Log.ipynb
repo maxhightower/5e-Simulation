{
 "cells": [
  {
   "cell_type": "code",
   "execution_count": 13,
   "metadata": {},
   "outputs": [],
   "source": [
    "### Creating Combat Log Table"
   ]
  },
  {
   "cell_type": "code",
   "execution_count": 14,
   "metadata": {},
   "outputs": [],
   "source": [
    "# what needs to happen is that a table needs to be created that stores each turn in combat and the actions that happened in that turn.\n",
    "# the table should have the following columns:\n",
    "\n",
    "# create the table in the form of a dataframe\n",
    "import pandas as pd\n",
    "import numpy as np\n",
    "import sqlite3\n",
    "    \n",
    "# create the table\n",
    "combat_log = pd.DataFrame(columns=[\n",
    "                                   'Combat Round',\n",
    "                                   'Action Number',\n",
    "                                   'Action Time', # action, bonus action, reaction, etc\n",
    "                                   'Action Name', # attack, cast spell, dodge, etc\n",
    "                                   'Action Type', # attack, support, heal, control, etc\n",
    "                                   'Target',\n",
    "                                   'Action Result',\n",
    "                                   'Current Allied Ability Check',\n",
    "                                   'Current Allied Attack Roll',\n",
    "                                   'Current Allied Saving Throw',\n",
    "                                   'Current Allied Damage Roll',\n",
    "                                   'Current Enemy Ability Check',\n",
    "                                   'Current Enemy Attack Roll',\n",
    "                                   'Current Enemy Saving Throw',\n",
    "                                   'Current Enemy Damage Roll',\n",
    "                                   ])"
   ]
  },
  {
   "cell_type": "code",
   "execution_count": 15,
   "metadata": {},
   "outputs": [],
   "source": [
    "import Species\n",
    "import Backgrounds\n",
    "import Armor_and_Weapons\n",
    "import Dice_Rolls\n",
    "import Establishing_Hierarchy\n",
    "import CHARACTER_CREATOR\n",
    "import Monsters\n",
    "\n",
    "import Character_Actions"
   ]
  },
  {
   "cell_type": "code",
   "execution_count": null,
   "metadata": {},
   "outputs": [],
   "source": []
  },
  {
   "cell_type": "code",
   "execution_count": 16,
   "metadata": {},
   "outputs": [],
   "source": [
    "def generate_situation(character_num):\n",
    "    # for the number of characters, randomly generate a Player_Character using Random_Character()\n",
    "    entities = []\n",
    "    for i in range(character_num):\n",
    "        entities.append(CHARACTER_CREATOR.Random_Character())\n",
    "\n",
    "    # for the number of entities, within each entity's flesh out the Active_Conditions and Circumstances dictionaries\n",
    "    for entity in range(len(entities)):\n",
    "        other_entities = entities.copy()\n",
    "        other_entities.pop(entity)\n",
    "        \n",
    "        # I wnant to add a key for each other entity in the Active_Conditions dictionaries\n",
    "        for other_entity in range(len(other_entities)):\n",
    "            entities[entity].Active_Conditions[str(entities[other_entity].Name)] = []\n",
    "        \n",
    "    return entities\n",
    "\n",
    "\n",
    "\n",
    "def generate_combat(character_num):\n",
    "    # create a new combat log\n",
    "    combat_log_new = pd.DataFrame(columns=[\n",
    "                                   'Combat Round',\n",
    "                                   'Action Number',\n",
    "                                   'Action Time', # action, bonus action, reaction, etc\n",
    "                                   'Action Name', # attack, cast spell, dodge, etc\n",
    "                                   'Action Type', # attack, support, heal, control, etc\n",
    "                                   'Target',\n",
    "                                   'Action Result',\n",
    "                                   'Current Allied Ability Check',\n",
    "                                   'Current Allied Attack Roll',\n",
    "                                   'Current Allied Saving Throw',\n",
    "                                   'Current Allied Damage Roll',\n",
    "                                   'Current Enemy Ability Check',\n",
    "                                   'Current Enemy Attack Roll',\n",
    "                                   'Current Enemy Saving Throw',\n",
    "                                   'Current Enemy Damage Roll',\n",
    "                                   ])\n",
    "    # create situation\n",
    "    combat_situation = generate_situation(character_num)\n",
    "    \n",
    "      # for each entity, create a column for location within a 52x52 grid\n",
    "\n",
    "    # add the Character_Actions.Attack_Action(entity,combat_situation) to each entity's actions\n",
    "    for entity in range(len(combat_situation)):\n",
    "        combat_situation[entity].Actions['None'] = Character_Actions.No_Action(combat_situation[entity],combat_situation,combat_log_new)\n",
    "        combat_situation[entity].Bonus_Actions['None'] = Character_Actions.No_Bonus_Action(combat_situation[entity],combat_situation,combat_log_new)\n",
    "        combat_situation[entity].Actions['Attack'] = Character_Actions.Attack_Action(combat_situation[entity],combat_situation,combat_log_new)\n",
    "        combat_situation[entity].Actions['Dodge'] = Character_Actions.Dodge_Action(combat_situation[entity],combat_situation,combat_log_new)\n",
    "\n",
    "        Character_Actions.Equip_Weapon(combat_situation[entity],Character_Actions.Choose_Random_Weapon(combat_situation[entity]))\n",
    "\n",
    "\n",
    "    # loop that continues combat until conclusion (aka when one creature's current hp is 0 or less)\n",
    "        # loop that records each round in \n",
    "    combat_round = 0\n",
    "    combat_log_new['Combat Round'] = combat_round\n",
    "    \n",
    "    # now create a loop that takes the last row of the combat_log_new and uses the actions of the entities to create a new row\n",
    "    def take_turn(character):\n",
    "    # randomly choose between the Attack\n",
    "        action = np.random.choice(['None','Attack','Dodge'])\n",
    "        bonus_action = np.random.choice(['None'])\n",
    "        new_round = combat_situation[character].Actions[action]\n",
    "        combat_log_new = pd.concat([combat_log_new, new_round], ignore_index=True, axis=0)\n",
    "\n",
    "    for entity in range(len(combat_situation)):\n",
    "        take_turn(entity)\n",
    "\n",
    "    combat_log_new = combat_log_new.reindex(columns=['Combat Round'] + list(combat_log_new.columns[1:][combat_log_new.columns[1:].str.contains('Acting True')]) + list(combat_log_new.columns[1:][combat_log_new.columns[1:].str.contains('Current_HP')]) + list(combat_log_new.columns[1:][~combat_log_new.columns[1:].str.contains('Acting True') & ~combat_log_new.columns[1:].str.contains('Current_HP')]))\n",
    "\n",
    "    return combat_log_new\n"
   ]
  },
  {
   "cell_type": "code",
   "execution_count": 17,
   "metadata": {},
   "outputs": [],
   "source": [
    "# remove the number of columns limit\n",
    "pd.set_option('display.max_columns', None)"
   ]
  },
  {
   "cell_type": "code",
   "execution_count": 18,
   "metadata": {},
   "outputs": [
    {
     "name": "stdout",
     "output_type": "stream",
     "text": [
      "Character_Creator - Random Character Function - Class Choice:  <module 'Barbarian' from 'c:\\\\Users\\\\maxhi\\\\OneDrive\\\\Documents\\\\GitHub\\\\5e-Simulation\\\\Barbarian.py'>\n",
      "Create Character Function - Class: <module 'Barbarian' from 'c:\\\\Users\\\\maxhi\\\\OneDrive\\\\Documents\\\\GitHub\\\\5e-Simulation\\\\Barbarian.py'>\n",
      "Character_Creator - Random Character Function - Class Choice:  <module 'Bard' from 'c:\\\\Users\\\\maxhi\\\\OneDrive\\\\Documents\\\\GitHub\\\\5e-Simulation\\\\Bard.py'>\n",
      "Create Character Function - Class: <module 'Bard' from 'c:\\\\Users\\\\maxhi\\\\OneDrive\\\\Documents\\\\GitHub\\\\5e-Simulation\\\\Bard.py'>\n",
      "Character_Creator - Random Character Function - Class Choice:  <module 'Artificer' from 'c:\\\\Users\\\\maxhi\\\\OneDrive\\\\Documents\\\\GitHub\\\\5e-Simulation\\\\Artificer.py'>\n",
      "Create Character Function - Class: <module 'Artificer' from 'c:\\\\Users\\\\maxhi\\\\OneDrive\\\\Documents\\\\GitHub\\\\5e-Simulation\\\\Artificer.py'>\n",
      "Character_Creator - Random Character Function - Class Choice:  <module 'Bard' from 'c:\\\\Users\\\\maxhi\\\\OneDrive\\\\Documents\\\\GitHub\\\\5e-Simulation\\\\Bard.py'>\n",
      "Create Character Function - Class: <module 'Bard' from 'c:\\\\Users\\\\maxhi\\\\OneDrive\\\\Documents\\\\GitHub\\\\5e-Simulation\\\\Bard.py'>\n"
     ]
    },
    {
     "ename": "UnboundLocalError",
     "evalue": "cannot access local variable 'combat_log_new' where it is not associated with a value",
     "output_type": "error",
     "traceback": [
      "\u001b[1;31m---------------------------------------------------------------------------\u001b[0m",
      "\u001b[1;31mUnboundLocalError\u001b[0m                         Traceback (most recent call last)",
      "Cell \u001b[1;32mIn[18], line 1\u001b[0m\n\u001b[1;32m----> 1\u001b[0m \u001b[43mgenerate_combat\u001b[49m\u001b[43m(\u001b[49m\u001b[38;5;241;43m4\u001b[39;49m\u001b[43m)\u001b[49m\n",
      "Cell \u001b[1;32mIn[16], line 70\u001b[0m, in \u001b[0;36mgenerate_combat\u001b[1;34m(character_num)\u001b[0m\n\u001b[0;32m     67\u001b[0m     combat_log_new \u001b[38;5;241m=\u001b[39m pd\u001b[38;5;241m.\u001b[39mconcat([combat_log_new, new_round], ignore_index\u001b[38;5;241m=\u001b[39m\u001b[38;5;28;01mTrue\u001b[39;00m, axis\u001b[38;5;241m=\u001b[39m\u001b[38;5;241m0\u001b[39m)\n\u001b[0;32m     69\u001b[0m \u001b[38;5;28;01mfor\u001b[39;00m entity \u001b[38;5;129;01min\u001b[39;00m \u001b[38;5;28mrange\u001b[39m(\u001b[38;5;28mlen\u001b[39m(combat_situation)):\n\u001b[1;32m---> 70\u001b[0m     \u001b[43mtake_turn\u001b[49m\u001b[43m(\u001b[49m\u001b[43mentity\u001b[49m\u001b[43m)\u001b[49m\n\u001b[0;32m     72\u001b[0m combat_log_new \u001b[38;5;241m=\u001b[39m combat_log_new\u001b[38;5;241m.\u001b[39mreindex(columns\u001b[38;5;241m=\u001b[39m[\u001b[38;5;124m'\u001b[39m\u001b[38;5;124mCombat Round\u001b[39m\u001b[38;5;124m'\u001b[39m] \u001b[38;5;241m+\u001b[39m \u001b[38;5;28mlist\u001b[39m(combat_log_new\u001b[38;5;241m.\u001b[39mcolumns[\u001b[38;5;241m1\u001b[39m:][combat_log_new\u001b[38;5;241m.\u001b[39mcolumns[\u001b[38;5;241m1\u001b[39m:]\u001b[38;5;241m.\u001b[39mstr\u001b[38;5;241m.\u001b[39mcontains(\u001b[38;5;124m'\u001b[39m\u001b[38;5;124mActing True\u001b[39m\u001b[38;5;124m'\u001b[39m)]) \u001b[38;5;241m+\u001b[39m \u001b[38;5;28mlist\u001b[39m(combat_log_new\u001b[38;5;241m.\u001b[39mcolumns[\u001b[38;5;241m1\u001b[39m:][combat_log_new\u001b[38;5;241m.\u001b[39mcolumns[\u001b[38;5;241m1\u001b[39m:]\u001b[38;5;241m.\u001b[39mstr\u001b[38;5;241m.\u001b[39mcontains(\u001b[38;5;124m'\u001b[39m\u001b[38;5;124mCurrent_HP\u001b[39m\u001b[38;5;124m'\u001b[39m)]) \u001b[38;5;241m+\u001b[39m \u001b[38;5;28mlist\u001b[39m(combat_log_new\u001b[38;5;241m.\u001b[39mcolumns[\u001b[38;5;241m1\u001b[39m:][\u001b[38;5;241m~\u001b[39mcombat_log_new\u001b[38;5;241m.\u001b[39mcolumns[\u001b[38;5;241m1\u001b[39m:]\u001b[38;5;241m.\u001b[39mstr\u001b[38;5;241m.\u001b[39mcontains(\u001b[38;5;124m'\u001b[39m\u001b[38;5;124mActing True\u001b[39m\u001b[38;5;124m'\u001b[39m) \u001b[38;5;241m&\u001b[39m \u001b[38;5;241m~\u001b[39mcombat_log_new\u001b[38;5;241m.\u001b[39mcolumns[\u001b[38;5;241m1\u001b[39m:]\u001b[38;5;241m.\u001b[39mstr\u001b[38;5;241m.\u001b[39mcontains(\u001b[38;5;124m'\u001b[39m\u001b[38;5;124mCurrent_HP\u001b[39m\u001b[38;5;124m'\u001b[39m)]))\n\u001b[0;32m     74\u001b[0m \u001b[38;5;28;01mreturn\u001b[39;00m combat_log_new\n",
      "Cell \u001b[1;32mIn[16], line 67\u001b[0m, in \u001b[0;36mgenerate_combat.<locals>.take_turn\u001b[1;34m(character)\u001b[0m\n\u001b[0;32m     63\u001b[0m bonus_action \u001b[38;5;241m=\u001b[39m np\u001b[38;5;241m.\u001b[39mrandom\u001b[38;5;241m.\u001b[39mchoice([\u001b[38;5;124m'\u001b[39m\u001b[38;5;124mNone\u001b[39m\u001b[38;5;124m'\u001b[39m])\n\u001b[0;32m     65\u001b[0m new_round \u001b[38;5;241m=\u001b[39m combat_situation[character]\u001b[38;5;241m.\u001b[39mActions[action]\n\u001b[1;32m---> 67\u001b[0m combat_log_new \u001b[38;5;241m=\u001b[39m pd\u001b[38;5;241m.\u001b[39mconcat([\u001b[43mcombat_log_new\u001b[49m, new_round], ignore_index\u001b[38;5;241m=\u001b[39m\u001b[38;5;28;01mTrue\u001b[39;00m, axis\u001b[38;5;241m=\u001b[39m\u001b[38;5;241m0\u001b[39m)\n",
      "\u001b[1;31mUnboundLocalError\u001b[0m: cannot access local variable 'combat_log_new' where it is not associated with a value"
     ]
    }
   ],
   "source": [
    "generate_combat(4)"
   ]
  },
  {
   "cell_type": "code",
   "execution_count": null,
   "metadata": {},
   "outputs": [],
   "source": []
  }
 ],
 "metadata": {
  "kernelspec": {
   "display_name": "Python 3",
   "language": "python",
   "name": "python3"
  },
  "language_info": {
   "codemirror_mode": {
    "name": "ipython",
    "version": 3
   },
   "file_extension": ".py",
   "mimetype": "text/x-python",
   "name": "python",
   "nbconvert_exporter": "python",
   "pygments_lexer": "ipython3",
   "version": "3.12.0"
  }
 },
 "nbformat": 4,
 "nbformat_minor": 2
}
