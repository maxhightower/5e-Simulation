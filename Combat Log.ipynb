{
 "cells": [
  {
   "cell_type": "code",
   "execution_count": 7,
   "metadata": {},
   "outputs": [],
   "source": [
    "### Creating Combat Log Table"
   ]
  },
  {
   "cell_type": "code",
   "execution_count": 8,
   "metadata": {},
   "outputs": [],
   "source": [
    "# what needs to happen is that a table needs to be created that stores each turn in combat and the actions that happened in that turn.\n",
    "# the table should have the following columns:\n",
    "\n",
    "# create the table in the form of a dataframe\n",
    "import pandas as pd\n",
    "import numpy as np\n",
    "import sqlite3\n",
    "    \n",
    "# create the table\n",
    "combat_log = pd.DataFrame(columns=['Log Entry ID',\n",
    "                                   'Combat Round',\n",
    "                                   'Action Number',\n",
    "                                   'Action Time', # action, bonus action, reaction, etc\n",
    "                                   'Action Name', # attack, cast spell, dodge, etc\n",
    "                                   'Action Type', # attack, support, heal, control, etc\n",
    "                                   'Target',\n",
    "                                   'Current Allied Ability Check',\n",
    "                                   'Current Allied Attack Roll',\n",
    "                                   'Current Allied Saving Throw',\n",
    "                                   'Current Allied Damage Roll',\n",
    "                                   'Current Enemy Ability Check',\n",
    "                                   'Current Enemy Attack Roll',\n",
    "                                   'Current Enemy Saving Throw',\n",
    "                                   'Current Enemy Damage Roll',\n",
    "                                   ])"
   ]
  },
  {
   "cell_type": "code",
   "execution_count": 9,
   "metadata": {},
   "outputs": [],
   "source": [
    "import Species\n",
    "import Backgrounds\n",
    "import Armor_and_Weapons\n",
    "import Dice_Rolls\n",
    "import Establishing_Hierarchy\n",
    "import CHARACTER_CREATOR\n",
    "import Monsters\n",
    "\n",
    "import Character_Actions"
   ]
  },
  {
   "cell_type": "code",
   "execution_count": 10,
   "metadata": {},
   "outputs": [],
   "source": [
    "def generate_situation(character_num):\n",
    "    # for the number of characters, randomly generate a Player_Character using Random_Character()\n",
    "    entities = []\n",
    "    for i in range(character_num):\n",
    "        entities.append(CHARACTER_CREATOR.Random_Character())\n",
    "\n",
    "    # for the number of monsters, ask which monsters to add \n",
    "\n",
    "    # for the number of entities, within each entity's flesh out the Active_Conditions and Circumstances dictionaries\n",
    "    for entity in range(len(entities)):\n",
    "        other_entities = entities.copy()\n",
    "        other_entities.pop(entity)\n",
    "        \n",
    "        # I wnant to add a key for each other entity in the Active_Conditions dictionaries\n",
    "        for other_entity in range(len(other_entities)):\n",
    "            entities[entity].Active_Conditions[str(entities[other_entity].Name)] = []\n",
    "\n",
    "    print(entities[0].First_Class)\n",
    "    print(entities[0].Inventory)\n",
    "\n",
    "    return entities\n",
    "\n",
    "def generate_combat(character_num):\n",
    "    # create a new combat log\n",
    "    combat_log_new = pd.DataFrame(columns=['Log Entry ID',\n",
    "                                   'Combat Round',\n",
    "                                   'Action Number',\n",
    "                                   'Action Time', # action, bonus action, reaction, etc\n",
    "                                   'Action Name', # attack, cast spell, dodge, etc\n",
    "                                   'Action Type', # attack, support, heal, control, etc\n",
    "                                   'Target',\n",
    "                                   'Current Allied Ability Check',\n",
    "                                   'Current Allied Attack Roll',\n",
    "                                   'Current Allied Saving Throw',\n",
    "                                   'Current Allied Damage Roll',\n",
    "                                   'Current Enemy Ability Check',\n",
    "                                   'Current Enemy Attack Roll',\n",
    "                                   'Current Enemy Saving Throw',\n",
    "                                   'Current Enemy Damage Roll',\n",
    "                                   ])\n",
    "    # create situation\n",
    "    combat_situation = generate_situation(character_num)\n",
    "    \n",
    "    # add the Character_Actions.Attack_Action(entity,combat_situation) to each entity's actions\n",
    "    for entity in range(len(combat_situation)):\n",
    "        combat_situation[entity].Actions['Attack'] = Character_Actions.Attack_Action(combat_situation[entity],combat_situation)\n",
    "\n",
    "    for entity in range(len(combat_situation)):\n",
    "        Character_Actions.Equip_Weapon(combat_situation[entity],Character_Actions.Choose_Random_Weapon(combat_situation[entity]))\n",
    "\n",
    "    # alter the combat log to include the details of every entity in the situation\n",
    "    # loop through each creature in the situation and add a column for each attribute of the creature\n",
    "    for creature in range(len(combat_situation)):\n",
    "        creature_reference = combat_situation[creature]\n",
    "        combat_log_new[str(creature_reference.Name) + ' Acting True'] = 0\n",
    "        \n",
    "        combat_log_new[str(creature_reference.Name) + ' Size'] = creature_reference.Size\n",
    "        combat_log_new[str(creature_reference.Name) + ' Walking Speed'] = creature_reference.Speed['Walking']\n",
    "        combat_log_new[str(creature_reference.Name) + ' Flying Speed'] = creature_reference.Speed['Flying']\n",
    "        combat_log_new[str(creature_reference.Name) + ' Str_Score'] = creature_reference.Str_Score\n",
    "        combat_log_new[str(creature_reference.Name) + ' Dex_Score'] = creature_reference.Dex_Score\n",
    "        combat_log_new[str(creature_reference.Name) + ' Con_Score'] = creature_reference.Con_Score\n",
    "        combat_log_new[str(creature_reference.Name) + ' Int_Score'] = creature_reference.Int_Score\n",
    "        combat_log_new[str(creature_reference.Name) + ' Wis_Score'] = creature_reference.Wis_Score\n",
    "        combat_log_new[str(creature_reference.Name) + ' Cha_Score'] = creature_reference.Cha_Score\n",
    "        combat_log_new[str(creature_reference.Name) + ' Current_HP'] = creature_reference.Current_HP\n",
    "        combat_log_new[str(creature_reference.Name) + ' Temp_HP'] = creature_reference.Temp_HP\n",
    "        #combat_log[str(creature_reference.Name) + 'Weapon_Equipped'] = creature_reference.Weapon_Equipped\n",
    "        #combat_log[str(creature_reference.Name) + 'Armor_Equipped'] = creature_reference.Armor_Equipped\n",
    "        combat_log_new[str(creature_reference.Name) + ' Active_Conditions'] = creature_reference.Active_Conditions['Self']\n",
    "        combat_log_new[str(creature_reference.Name) + ' Concentrating'] = creature_reference.Concentrating\n",
    "\n",
    "\n",
    "\n",
    "    # loop that continues combat until conclusion (aka when one creature's current hp is 0 or less)\n",
    "        # loop that records each round in \n",
    "    combat_round = 0\n",
    "    combat_log_new['Combat Round'] = combat_round\n",
    "    #while True:\n",
    "    #    combat_round += 1\n",
    "    #    combat_log_new['Combat Round'] = combat_round\n",
    "\n",
    "\n",
    "\n",
    "    return combat_log_new\n"
   ]
  },
  {
   "cell_type": "code",
   "execution_count": 11,
   "metadata": {},
   "outputs": [],
   "source": [
    "# remove the number of columns limit\n",
    "pd.set_option('display.max_columns', None)"
   ]
  },
  {
   "cell_type": "code",
   "execution_count": 12,
   "metadata": {},
   "outputs": [
    {
     "name": "stdout",
     "output_type": "stream",
     "text": [
      "Character_Creator - Random Character Function - Class Choice:  <module 'Bard' from 'c:\\\\Users\\\\maxhi\\\\OneDrive\\\\Documents\\\\GitHub\\\\5e-Simulation\\\\Bard.py'>\n",
      "Character_Creator - Random Character Function - Class Choice:  <module 'Barbarian' from 'c:\\\\Users\\\\maxhi\\\\OneDrive\\\\Documents\\\\GitHub\\\\5e-Simulation\\\\Barbarian.py'>\n",
      "Character_Creator - Random Character Function - Class Choice:  <module 'Bard' from 'c:\\\\Users\\\\maxhi\\\\OneDrive\\\\Documents\\\\GitHub\\\\5e-Simulation\\\\Bard.py'>\n",
      "Character_Creator - Random Character Function - Class Choice:  <module 'Barbarian' from 'c:\\\\Users\\\\maxhi\\\\OneDrive\\\\Documents\\\\GitHub\\\\5e-Simulation\\\\Barbarian.py'>\n",
      "<module 'Bard' from 'c:\\\\Users\\\\maxhi\\\\OneDrive\\\\Documents\\\\GitHub\\\\5e-Simulation\\\\Bard.py'>\n",
      "{'Armor': [], 'Weapons': [], 'Treasure': [], 'Magic Items': {'Armor': [], 'Weapons': [], 'Other': []}, 'Vehicles': [], 'Instruments': [False], 'Tools': [False], 'Artisan_Tools': [False], 'Games': [1], 'Packs': [], 'Apparel': ['Common Clothes'], 'Storage': ['Belt Pouch'], 'Identifying_Items': ['Insignia of Rank'], 'Currency': ['10gp'], 'Other': []}\n"
     ]
    },
    {
     "ename": "AttributeError",
     "evalue": "type object 'Damage_Roll' has no attribute 'Convert_Roll_to_Int'",
     "output_type": "error",
     "traceback": [
      "\u001b[1;31m---------------------------------------------------------------------------\u001b[0m",
      "\u001b[1;31mAttributeError\u001b[0m                            Traceback (most recent call last)",
      "Cell \u001b[1;32mIn[12], line 1\u001b[0m\n\u001b[1;32m----> 1\u001b[0m \u001b[43mgenerate_combat\u001b[49m\u001b[43m(\u001b[49m\u001b[38;5;241;43m4\u001b[39;49m\u001b[43m)\u001b[49m\n",
      "Cell \u001b[1;32mIn[10], line 46\u001b[0m, in \u001b[0;36mgenerate_combat\u001b[1;34m(character_num)\u001b[0m\n\u001b[0;32m     44\u001b[0m \u001b[38;5;66;03m# add the Character_Actions.Attack_Action(entity,combat_situation) to each entity's actions\u001b[39;00m\n\u001b[0;32m     45\u001b[0m \u001b[38;5;28;01mfor\u001b[39;00m entity \u001b[38;5;129;01min\u001b[39;00m \u001b[38;5;28mrange\u001b[39m(\u001b[38;5;28mlen\u001b[39m(combat_situation)):\n\u001b[1;32m---> 46\u001b[0m     combat_situation[entity]\u001b[38;5;241m.\u001b[39mActions[\u001b[38;5;124m'\u001b[39m\u001b[38;5;124mAttack\u001b[39m\u001b[38;5;124m'\u001b[39m] \u001b[38;5;241m=\u001b[39m \u001b[43mCharacter_Actions\u001b[49m\u001b[38;5;241;43m.\u001b[39;49m\u001b[43mAttack_Action\u001b[49m\u001b[43m(\u001b[49m\u001b[43mcombat_situation\u001b[49m\u001b[43m[\u001b[49m\u001b[43mentity\u001b[49m\u001b[43m]\u001b[49m\u001b[43m,\u001b[49m\u001b[43mcombat_situation\u001b[49m\u001b[43m)\u001b[49m\n\u001b[0;32m     48\u001b[0m \u001b[38;5;28;01mfor\u001b[39;00m entity \u001b[38;5;129;01min\u001b[39;00m \u001b[38;5;28mrange\u001b[39m(\u001b[38;5;28mlen\u001b[39m(combat_situation)):\n\u001b[0;32m     49\u001b[0m     Character_Actions\u001b[38;5;241m.\u001b[39mEquip_Weapon(combat_situation[entity],Character_Actions\u001b[38;5;241m.\u001b[39mChoose_Random_Weapon(combat_situation[entity]))\n",
      "File \u001b[1;32mc:\\Users\\maxhi\\OneDrive\\Documents\\GitHub\\5e-Simulation\\Character_Actions.py:92\u001b[0m, in \u001b[0;36mAttack_Action\u001b[1;34m(Actor, Combat_Situation)\u001b[0m\n\u001b[0;32m     90\u001b[0m Weapon \u001b[38;5;241m=\u001b[39m Actor\u001b[38;5;241m.\u001b[39mWeapon_Equipped[\u001b[38;5;241m0\u001b[39m]\n\u001b[0;32m     91\u001b[0m Target \u001b[38;5;241m=\u001b[39m Dice_Rolls\u001b[38;5;241m.\u001b[39mChoose_Target_Offense(Actor,Combat_Situation)\n\u001b[1;32m---> 92\u001b[0m \u001b[38;5;28;01mreturn\u001b[39;00m \u001b[43mEnact_Attack\u001b[49m\u001b[43m(\u001b[49m\u001b[43mActor\u001b[49m\u001b[43m,\u001b[49m\u001b[43mTarget\u001b[49m\u001b[43m,\u001b[49m\u001b[43mWeapon\u001b[49m\u001b[43m,\u001b[49m\u001b[43mCombat_Situation\u001b[49m\u001b[43m)\u001b[49m\n",
      "File \u001b[1;32mc:\\Users\\maxhi\\OneDrive\\Documents\\GitHub\\5e-Simulation\\Character_Actions.py:114\u001b[0m, in \u001b[0;36mEnact_Attack\u001b[1;34m(Actor, Target, Weapon, Combat_Situation)\u001b[0m\n\u001b[0;32m    112\u001b[0m damage_roll \u001b[38;5;241m=\u001b[39m Dice_Rolls\u001b[38;5;241m.\u001b[39mDamage_Roll(Weapon\u001b[38;5;241m.\u001b[39mDice_Type,Weapon\u001b[38;5;241m.\u001b[39mDice_Num,Actor,Target,Weapon,Establishing_Hierarchy\u001b[38;5;241m.\u001b[39mAttack_Score(Actor),Weapon\u001b[38;5;241m.\u001b[39mDamage_Type)\n\u001b[0;32m    113\u001b[0m \u001b[38;5;66;03m# use the function Convert_Roll_to_Int to convert the roll x to an integer\u001b[39;00m\n\u001b[1;32m--> 114\u001b[0m x \u001b[38;5;241m=\u001b[39m \u001b[43mDice_Rolls\u001b[49m\u001b[38;5;241;43m.\u001b[39;49m\u001b[43mDamage_Roll\u001b[49m\u001b[38;5;241;43m.\u001b[39;49m\u001b[43mConvert_Roll_to_Int\u001b[49m(damage_roll)\n\u001b[0;32m    116\u001b[0m y \u001b[38;5;241m=\u001b[39m Attack_Modifier\n\u001b[0;32m    119\u001b[0m \u001b[38;5;28;01mif\u001b[39;00m Weapon\u001b[38;5;241m.\u001b[39mDamage_Type \u001b[38;5;241m==\u001b[39m \u001b[38;5;124m'\u001b[39m\u001b[38;5;124mBludgeoning\u001b[39m\u001b[38;5;124m'\u001b[39m \u001b[38;5;129;01mor\u001b[39;00m Weapon\u001b[38;5;241m.\u001b[39mDamage_Type \u001b[38;5;241m==\u001b[39m \u001b[38;5;124m'\u001b[39m\u001b[38;5;124mPiercing\u001b[39m\u001b[38;5;124m'\u001b[39m \u001b[38;5;129;01mor\u001b[39;00m Weapon\u001b[38;5;241m.\u001b[39mDamage_Type \u001b[38;5;241m==\u001b[39m \u001b[38;5;124m'\u001b[39m\u001b[38;5;124mSlashing\u001b[39m\u001b[38;5;124m'\u001b[39m:\n",
      "\u001b[1;31mAttributeError\u001b[0m: type object 'Damage_Roll' has no attribute 'Convert_Roll_to_Int'"
     ]
    }
   ],
   "source": [
    "generate_combat(4)"
   ]
  },
  {
   "cell_type": "code",
   "execution_count": null,
   "metadata": {},
   "outputs": [],
   "source": []
  }
 ],
 "metadata": {
  "kernelspec": {
   "display_name": "Python 3",
   "language": "python",
   "name": "python3"
  },
  "language_info": {
   "codemirror_mode": {
    "name": "ipython",
    "version": 3
   },
   "file_extension": ".py",
   "mimetype": "text/x-python",
   "name": "python",
   "nbconvert_exporter": "python",
   "pygments_lexer": "ipython3",
   "version": "3.12.0"
  }
 },
 "nbformat": 4,
 "nbformat_minor": 2
}
