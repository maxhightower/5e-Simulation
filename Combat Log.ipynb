{
 "cells": [
  {
   "cell_type": "code",
   "execution_count": 37,
   "metadata": {},
   "outputs": [],
   "source": [
    "### Creating Combat Log Table"
   ]
  },
  {
   "cell_type": "code",
   "execution_count": 38,
   "metadata": {},
   "outputs": [],
   "source": [
    "# what needs to happen is that a table needs to be created that stores each turn in combat and the actions that happened in that turn.\n",
    "# the table should have the following columns:\n",
    "\n",
    "# create the table in the form of a dataframe\n",
    "import pandas as pd\n",
    "import numpy as np\n",
    "import sqlite3\n",
    "    \n",
    "# create the table\n",
    "combat_log = pd.DataFrame(columns=[\n",
    "                                   'Combat Round',\n",
    "                                   'Action Number',\n",
    "                                   'Action Time', # action, bonus action, reaction, etc\n",
    "                                   'Action Name', # attack, cast spell, dodge, etc\n",
    "                                   'Action Type', # attack, support, heal, control, etc\n",
    "                                   'Target',\n",
    "                                   'Current Allied Ability Check',\n",
    "                                   'Current Allied Attack Roll',\n",
    "                                   'Current Allied Saving Throw',\n",
    "                                   'Current Allied Damage Roll',\n",
    "                                   'Current Enemy Ability Check',\n",
    "                                   'Current Enemy Attack Roll',\n",
    "                                   'Current Enemy Saving Throw',\n",
    "                                   'Current Enemy Damage Roll',\n",
    "                                   ])"
   ]
  },
  {
   "cell_type": "code",
   "execution_count": 39,
   "metadata": {},
   "outputs": [],
   "source": [
    "import Species\n",
    "import Backgrounds\n",
    "import Armor_and_Weapons\n",
    "import Dice_Rolls\n",
    "import Establishing_Hierarchy\n",
    "import CHARACTER_CREATOR\n",
    "import Monsters\n",
    "\n",
    "import Character_Actions"
   ]
  },
  {
   "cell_type": "code",
   "execution_count": 40,
   "metadata": {},
   "outputs": [],
   "source": [
    "def generate_situation(character_num):\n",
    "    # for the number of characters, randomly generate a Player_Character using Random_Character()\n",
    "    entities = []\n",
    "    for i in range(character_num):\n",
    "        entities.append(CHARACTER_CREATOR.Random_Character())\n",
    "\n",
    "    # for the number of monsters, ask which monsters to add \n",
    "\n",
    "    # for the number of entities, within each entity's flesh out the Active_Conditions and Circumstances dictionaries\n",
    "    for entity in range(len(entities)):\n",
    "        other_entities = entities.copy()\n",
    "        other_entities.pop(entity)\n",
    "        \n",
    "        # I wnant to add a key for each other entity in the Active_Conditions dictionaries\n",
    "        for other_entity in range(len(other_entities)):\n",
    "            entities[entity].Active_Conditions[str(entities[other_entity].Name)] = []\n",
    "\n",
    "    return entities\n",
    "\n",
    "def generate_combat(character_num):\n",
    "    # create a new combat log\n",
    "    combat_log_new = pd.DataFrame(columns=[\n",
    "                                   'Combat Round',\n",
    "                                   'Action Number',\n",
    "                                   'Action Time', # action, bonus action, reaction, etc\n",
    "                                   'Action Name', # attack, cast spell, dodge, etc\n",
    "                                   'Action Type', # attack, support, heal, control, etc\n",
    "                                   'Target',\n",
    "                                   'Current Allied Ability Check',\n",
    "                                   'Current Allied Attack Roll',\n",
    "                                   'Current Allied Saving Throw',\n",
    "                                   'Current Allied Damage Roll',\n",
    "                                   'Current Enemy Ability Check',\n",
    "                                   'Current Enemy Attack Roll',\n",
    "                                   'Current Enemy Saving Throw',\n",
    "                                   'Current Enemy Damage Roll',\n",
    "                                   ])\n",
    "    # create situation\n",
    "    combat_situation = generate_situation(character_num)\n",
    "    \n",
    "    # add the Character_Actions.Attack_Action(entity,combat_situation) to each entity's actions\n",
    "    for entity in range(len(combat_situation)):\n",
    "        combat_situation[entity].Actions['Attack'] = Character_Actions.Attack_Action(combat_situation[entity],combat_situation,combat_log_new)\n",
    "\n",
    "    for entity in range(len(combat_situation)):\n",
    "        Character_Actions.Equip_Weapon(combat_situation[entity],Character_Actions.Choose_Random_Weapon(combat_situation[entity]))\n",
    "\n",
    "    # alter the combat log to include the details of every entity in the situation\n",
    "    # loop through each creature in the situation and add a column for each attribute of the creature\n",
    "    for creature in range(len(combat_situation)):\n",
    "        creature_reference = combat_situation[creature]\n",
    "        combat_log_new[str(creature_reference.Name) + ' Acting True'] = 0\n",
    "        \n",
    "        combat_log_new[str(creature_reference.Name) + ' Size'] = creature_reference.Size\n",
    "        combat_log_new[str(creature_reference.Name) + ' Walking Speed'] = creature_reference.Speed['Walking']\n",
    "        combat_log_new[str(creature_reference.Name) + ' Flying Speed'] = creature_reference.Speed['Flying']\n",
    "        combat_log_new[str(creature_reference.Name) + ' Str_Score'] = creature_reference.Str_Score\n",
    "        combat_log_new[str(creature_reference.Name) + ' Dex_Score'] = creature_reference.Dex_Score\n",
    "        combat_log_new[str(creature_reference.Name) + ' Con_Score'] = creature_reference.Con_Score\n",
    "        combat_log_new[str(creature_reference.Name) + ' Int_Score'] = creature_reference.Int_Score\n",
    "        combat_log_new[str(creature_reference.Name) + ' Wis_Score'] = creature_reference.Wis_Score\n",
    "        combat_log_new[str(creature_reference.Name) + ' Cha_Score'] = creature_reference.Cha_Score\n",
    "        combat_log_new[str(creature_reference.Name) + ' Current_HP'] = creature_reference.Current_HP\n",
    "        combat_log_new[str(creature_reference.Name) + ' Temp_HP'] = creature_reference.Temp_HP\n",
    "        #combat_log[str(creature_reference.Name) + 'Weapon_Equipped'] = creature_reference.Weapon_Equipped\n",
    "        #combat_log[str(creature_reference.Name) + 'Armor_Equipped'] = creature_reference.Armor_Equipped\n",
    "        combat_log_new[str(creature_reference.Name) + ' Active_Conditions'] = creature_reference.Active_Conditions['Self']\n",
    "        combat_log_new[str(creature_reference.Name) + ' Concentrating'] = creature_reference.Concentrating\n",
    "\n",
    "\n",
    "\n",
    "    # loop that continues combat until conclusion (aka when one creature's current hp is 0 or less)\n",
    "        # loop that records each round in \n",
    "    combat_round = 0\n",
    "    combat_log_new['Combat Round'] = combat_round\n",
    "    #while True:\n",
    "    #    combat_round += 1\n",
    "    #    combat_log_new['Combat Round'] = combat_round\n",
    "\n",
    "    # use a for loop to have each entity take the Attack_Action\n",
    "    for entity in range(len(combat_situation)):\n",
    "        new_round = combat_situation[entity].Actions['Attack']\n",
    "        # concat the dict new_round to the combat_log_new\n",
    "        combat_log_new = pd.concat([combat_log_new, pd.DataFrame(new_round)], ignore_index=False)\n",
    "\n",
    "\n",
    "    return combat_log_new\n"
   ]
  },
  {
   "cell_type": "code",
   "execution_count": 41,
   "metadata": {},
   "outputs": [],
   "source": [
    "# remove the number of columns limit\n",
    "pd.set_option('display.max_columns', None)"
   ]
  },
  {
   "cell_type": "code",
   "execution_count": 42,
   "metadata": {},
   "outputs": [
    {
     "name": "stdout",
     "output_type": "stream",
     "text": [
      "Character_Creator - Random Character Function - Class Choice:  <module 'Barbarian' from 'c:\\\\Users\\\\maxhi\\\\OneDrive\\\\Documents\\\\GitHub\\\\5e-Simulation\\\\Barbarian.py'>\n",
      "Character_Creator - Random Character Function - Class Choice:  <module 'Bard' from 'c:\\\\Users\\\\maxhi\\\\OneDrive\\\\Documents\\\\GitHub\\\\5e-Simulation\\\\Bard.py'>\n",
      "Character_Creator - Random Character Function - Class Choice:  <module 'Artificer' from 'c:\\\\Users\\\\maxhi\\\\OneDrive\\\\Documents\\\\GitHub\\\\5e-Simulation\\\\Artificer.py'>\n",
      "Character_Creator - Random Character Function - Class Choice:  <module 'Artificer' from 'c:\\\\Users\\\\maxhi\\\\OneDrive\\\\Documents\\\\GitHub\\\\5e-Simulation\\\\Artificer.py'>\n",
      "0\n",
      "<Establishing_Hierarchy.Player_Character object at 0x000002581283D4F0>\n",
      "0\n",
      "<Establishing_Hierarchy.Player_Character object at 0x000002581283CC20>\n",
      "0\n",
      "<Establishing_Hierarchy.Player_Character object at 0x000002581283D2B0>\n",
      "0\n",
      "<Establishing_Hierarchy.Player_Character object at 0x000002581283D370>\n"
     ]
    },
    {
     "ename": "ValueError",
     "evalue": "If using all scalar values, you must pass an index",
     "output_type": "error",
     "traceback": [
      "\u001b[1;31m---------------------------------------------------------------------------\u001b[0m",
      "\u001b[1;31mValueError\u001b[0m                                Traceback (most recent call last)",
      "Cell \u001b[1;32mIn[42], line 1\u001b[0m\n\u001b[1;32m----> 1\u001b[0m \u001b[43mgenerate_combat\u001b[49m\u001b[43m(\u001b[49m\u001b[38;5;241;43m4\u001b[39;49m\u001b[43m)\u001b[49m\n",
      "Cell \u001b[1;32mIn[40], line 84\u001b[0m, in \u001b[0;36mgenerate_combat\u001b[1;34m(character_num)\u001b[0m\n\u001b[0;32m     82\u001b[0m     new_round \u001b[38;5;241m=\u001b[39m combat_situation[entity]\u001b[38;5;241m.\u001b[39mActions[\u001b[38;5;124m'\u001b[39m\u001b[38;5;124mAttack\u001b[39m\u001b[38;5;124m'\u001b[39m]\n\u001b[0;32m     83\u001b[0m     \u001b[38;5;66;03m# concat the dict new_round to the combat_log_new\u001b[39;00m\n\u001b[1;32m---> 84\u001b[0m     combat_log_new \u001b[38;5;241m=\u001b[39m pd\u001b[38;5;241m.\u001b[39mconcat([combat_log_new, \u001b[43mpd\u001b[49m\u001b[38;5;241;43m.\u001b[39;49m\u001b[43mDataFrame\u001b[49m\u001b[43m(\u001b[49m\u001b[43mnew_round\u001b[49m\u001b[43m)\u001b[49m], ignore_index\u001b[38;5;241m=\u001b[39m\u001b[38;5;28;01mFalse\u001b[39;00m)\n\u001b[0;32m     87\u001b[0m \u001b[38;5;28;01mreturn\u001b[39;00m combat_log_new\n",
      "File \u001b[1;32mc:\\Users\\maxhi\\AppData\\Local\\Programs\\Python\\Python312\\Lib\\site-packages\\pandas\\core\\frame.py:736\u001b[0m, in \u001b[0;36mDataFrame.__init__\u001b[1;34m(self, data, index, columns, dtype, copy)\u001b[0m\n\u001b[0;32m    730\u001b[0m     mgr \u001b[38;5;241m=\u001b[39m \u001b[38;5;28mself\u001b[39m\u001b[38;5;241m.\u001b[39m_init_mgr(\n\u001b[0;32m    731\u001b[0m         data, axes\u001b[38;5;241m=\u001b[39m{\u001b[38;5;124m\"\u001b[39m\u001b[38;5;124mindex\u001b[39m\u001b[38;5;124m\"\u001b[39m: index, \u001b[38;5;124m\"\u001b[39m\u001b[38;5;124mcolumns\u001b[39m\u001b[38;5;124m\"\u001b[39m: columns}, dtype\u001b[38;5;241m=\u001b[39mdtype, copy\u001b[38;5;241m=\u001b[39mcopy\n\u001b[0;32m    732\u001b[0m     )\n\u001b[0;32m    734\u001b[0m \u001b[38;5;28;01melif\u001b[39;00m \u001b[38;5;28misinstance\u001b[39m(data, \u001b[38;5;28mdict\u001b[39m):\n\u001b[0;32m    735\u001b[0m     \u001b[38;5;66;03m# GH#38939 de facto copy defaults to False only in non-dict cases\u001b[39;00m\n\u001b[1;32m--> 736\u001b[0m     mgr \u001b[38;5;241m=\u001b[39m \u001b[43mdict_to_mgr\u001b[49m\u001b[43m(\u001b[49m\u001b[43mdata\u001b[49m\u001b[43m,\u001b[49m\u001b[43m \u001b[49m\u001b[43mindex\u001b[49m\u001b[43m,\u001b[49m\u001b[43m \u001b[49m\u001b[43mcolumns\u001b[49m\u001b[43m,\u001b[49m\u001b[43m \u001b[49m\u001b[43mdtype\u001b[49m\u001b[38;5;241;43m=\u001b[39;49m\u001b[43mdtype\u001b[49m\u001b[43m,\u001b[49m\u001b[43m \u001b[49m\u001b[43mcopy\u001b[49m\u001b[38;5;241;43m=\u001b[39;49m\u001b[43mcopy\u001b[49m\u001b[43m,\u001b[49m\u001b[43m \u001b[49m\u001b[43mtyp\u001b[49m\u001b[38;5;241;43m=\u001b[39;49m\u001b[43mmanager\u001b[49m\u001b[43m)\u001b[49m\n\u001b[0;32m    737\u001b[0m \u001b[38;5;28;01melif\u001b[39;00m \u001b[38;5;28misinstance\u001b[39m(data, ma\u001b[38;5;241m.\u001b[39mMaskedArray):\n\u001b[0;32m    738\u001b[0m     \u001b[38;5;28;01mfrom\u001b[39;00m \u001b[38;5;21;01mnumpy\u001b[39;00m\u001b[38;5;21;01m.\u001b[39;00m\u001b[38;5;21;01mma\u001b[39;00m \u001b[38;5;28;01mimport\u001b[39;00m mrecords\n",
      "File \u001b[1;32mc:\\Users\\maxhi\\AppData\\Local\\Programs\\Python\\Python312\\Lib\\site-packages\\pandas\\core\\internals\\construction.py:503\u001b[0m, in \u001b[0;36mdict_to_mgr\u001b[1;34m(data, index, columns, dtype, typ, copy)\u001b[0m\n\u001b[0;32m    499\u001b[0m     \u001b[38;5;28;01melse\u001b[39;00m:\n\u001b[0;32m    500\u001b[0m         \u001b[38;5;66;03m# dtype check to exclude e.g. range objects, scalars\u001b[39;00m\n\u001b[0;32m    501\u001b[0m         arrays \u001b[38;5;241m=\u001b[39m [x\u001b[38;5;241m.\u001b[39mcopy() \u001b[38;5;28;01mif\u001b[39;00m \u001b[38;5;28mhasattr\u001b[39m(x, \u001b[38;5;124m\"\u001b[39m\u001b[38;5;124mdtype\u001b[39m\u001b[38;5;124m\"\u001b[39m) \u001b[38;5;28;01melse\u001b[39;00m x \u001b[38;5;28;01mfor\u001b[39;00m x \u001b[38;5;129;01min\u001b[39;00m arrays]\n\u001b[1;32m--> 503\u001b[0m \u001b[38;5;28;01mreturn\u001b[39;00m \u001b[43marrays_to_mgr\u001b[49m\u001b[43m(\u001b[49m\u001b[43marrays\u001b[49m\u001b[43m,\u001b[49m\u001b[43m \u001b[49m\u001b[43mcolumns\u001b[49m\u001b[43m,\u001b[49m\u001b[43m \u001b[49m\u001b[43mindex\u001b[49m\u001b[43m,\u001b[49m\u001b[43m \u001b[49m\u001b[43mdtype\u001b[49m\u001b[38;5;241;43m=\u001b[39;49m\u001b[43mdtype\u001b[49m\u001b[43m,\u001b[49m\u001b[43m \u001b[49m\u001b[43mtyp\u001b[49m\u001b[38;5;241;43m=\u001b[39;49m\u001b[43mtyp\u001b[49m\u001b[43m,\u001b[49m\u001b[43m \u001b[49m\u001b[43mconsolidate\u001b[49m\u001b[38;5;241;43m=\u001b[39;49m\u001b[43mcopy\u001b[49m\u001b[43m)\u001b[49m\n",
      "File \u001b[1;32mc:\\Users\\maxhi\\AppData\\Local\\Programs\\Python\\Python312\\Lib\\site-packages\\pandas\\core\\internals\\construction.py:114\u001b[0m, in \u001b[0;36marrays_to_mgr\u001b[1;34m(arrays, columns, index, dtype, verify_integrity, typ, consolidate)\u001b[0m\n\u001b[0;32m    111\u001b[0m \u001b[38;5;28;01mif\u001b[39;00m verify_integrity:\n\u001b[0;32m    112\u001b[0m     \u001b[38;5;66;03m# figure out the index, if necessary\u001b[39;00m\n\u001b[0;32m    113\u001b[0m     \u001b[38;5;28;01mif\u001b[39;00m index \u001b[38;5;129;01mis\u001b[39;00m \u001b[38;5;28;01mNone\u001b[39;00m:\n\u001b[1;32m--> 114\u001b[0m         index \u001b[38;5;241m=\u001b[39m \u001b[43m_extract_index\u001b[49m\u001b[43m(\u001b[49m\u001b[43marrays\u001b[49m\u001b[43m)\u001b[49m\n\u001b[0;32m    115\u001b[0m     \u001b[38;5;28;01melse\u001b[39;00m:\n\u001b[0;32m    116\u001b[0m         index \u001b[38;5;241m=\u001b[39m ensure_index(index)\n",
      "File \u001b[1;32mc:\\Users\\maxhi\\AppData\\Local\\Programs\\Python\\Python312\\Lib\\site-packages\\pandas\\core\\internals\\construction.py:667\u001b[0m, in \u001b[0;36m_extract_index\u001b[1;34m(data)\u001b[0m\n\u001b[0;32m    664\u001b[0m         \u001b[38;5;28;01mraise\u001b[39;00m \u001b[38;5;167;01mValueError\u001b[39;00m(\u001b[38;5;124m\"\u001b[39m\u001b[38;5;124mPer-column arrays must each be 1-dimensional\u001b[39m\u001b[38;5;124m\"\u001b[39m)\n\u001b[0;32m    666\u001b[0m \u001b[38;5;28;01mif\u001b[39;00m \u001b[38;5;129;01mnot\u001b[39;00m indexes \u001b[38;5;129;01mand\u001b[39;00m \u001b[38;5;129;01mnot\u001b[39;00m raw_lengths:\n\u001b[1;32m--> 667\u001b[0m     \u001b[38;5;28;01mraise\u001b[39;00m \u001b[38;5;167;01mValueError\u001b[39;00m(\u001b[38;5;124m\"\u001b[39m\u001b[38;5;124mIf using all scalar values, you must pass an index\u001b[39m\u001b[38;5;124m\"\u001b[39m)\n\u001b[0;32m    669\u001b[0m \u001b[38;5;28;01mif\u001b[39;00m have_series:\n\u001b[0;32m    670\u001b[0m     index \u001b[38;5;241m=\u001b[39m union_indexes(indexes)\n",
      "\u001b[1;31mValueError\u001b[0m: If using all scalar values, you must pass an index"
     ]
    }
   ],
   "source": [
    "generate_combat(4)"
   ]
  },
  {
   "cell_type": "code",
   "execution_count": null,
   "metadata": {},
   "outputs": [],
   "source": []
  }
 ],
 "metadata": {
  "kernelspec": {
   "display_name": "Python 3",
   "language": "python",
   "name": "python3"
  },
  "language_info": {
   "codemirror_mode": {
    "name": "ipython",
    "version": 3
   },
   "file_extension": ".py",
   "mimetype": "text/x-python",
   "name": "python",
   "nbconvert_exporter": "python",
   "pygments_lexer": "ipython3",
   "version": "3.12.0"
  }
 },
 "nbformat": 4,
 "nbformat_minor": 2
}
