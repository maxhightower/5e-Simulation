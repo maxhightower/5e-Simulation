{
 "cells": [
  {
   "cell_type": "code",
   "execution_count": 7,
   "metadata": {},
   "outputs": [],
   "source": [
    "### Creating Combat Log Table"
   ]
  },
  {
   "cell_type": "code",
   "execution_count": 8,
   "metadata": {},
   "outputs": [],
   "source": [
    "# what needs to happen is that a table needs to be created that stores each turn in combat and the actions that happened in that turn.\n",
    "# the table should have the following columns:\n",
    "\n",
    "# create the table in the form of a dataframe\n",
    "import pandas as pd\n",
    "import numpy as np\n",
    "import sqlite3\n",
    "    \n",
    "# create the table\n",
    "combat_log = pd.DataFrame(columns=[\n",
    "                                   'Combat Round',\n",
    "                                   'Action Number',\n",
    "                                   'Action Time', # action, bonus action, reaction, etc\n",
    "                                   'Action Name', # attack, cast spell, dodge, etc\n",
    "                                   'Action Type', # attack, support, heal, control, etc\n",
    "                                   'Target',\n",
    "                                   'Action Result',\n",
    "                                   'Current Allied Ability Check',\n",
    "                                   'Current Allied Attack Roll',\n",
    "                                   'Current Allied Saving Throw',\n",
    "                                   'Current Allied Damage Roll',\n",
    "                                   'Current Enemy Ability Check',\n",
    "                                   'Current Enemy Attack Roll',\n",
    "                                   'Current Enemy Saving Throw',\n",
    "                                   'Current Enemy Damage Roll',\n",
    "                                   ])"
   ]
  },
  {
   "cell_type": "code",
   "execution_count": 9,
   "metadata": {},
   "outputs": [],
   "source": [
    "import Species\n",
    "import Backgrounds\n",
    "import Armor_and_Weapons\n",
    "import Dice_Rolls\n",
    "import Establishing_Hierarchy\n",
    "import CHARACTER_CREATOR\n",
    "import Monsters\n",
    "\n",
    "import Character_Actions"
   ]
  },
  {
   "cell_type": "code",
   "execution_count": 10,
   "metadata": {},
   "outputs": [],
   "source": [
    "def generate_situation(character_num):\n",
    "    # for the number of characters, randomly generate a Player_Character using Random_Character()\n",
    "    entities = []\n",
    "    for i in range(character_num):\n",
    "        entities.append(CHARACTER_CREATOR.Random_Character())\n",
    "\n",
    "    # for the number of entities, within each entity's flesh out the Active_Conditions and Circumstances dictionaries\n",
    "    for entity in range(len(entities)):\n",
    "        other_entities = entities.copy()\n",
    "        other_entities.pop(entity)\n",
    "        \n",
    "        # I wnant to add a key for each other entity in the Active_Conditions dictionaries\n",
    "        for other_entity in range(len(other_entities)):\n",
    "            entities[entity].Active_Conditions[str(entities[other_entity].Name)] = []\n",
    "        \n",
    "    return entities\n",
    "\n",
    "\n",
    "\n",
    "def generate_combat(character_num):\n",
    "    # create a new combat log\n",
    "    combat_log_new = pd.DataFrame(columns=[\n",
    "                                   'Combat Round',\n",
    "                                   'Action Number',\n",
    "                                   'Action Time', # action, bonus action, reaction, etc\n",
    "                                   'Action Name', # attack, cast spell, dodge, etc\n",
    "                                   'Action Type', # attack, support, heal, control, etc\n",
    "                                   'Target',\n",
    "                                   'Action Result',\n",
    "                                   'Current Allied Ability Check',\n",
    "                                   'Current Allied Attack Roll',\n",
    "                                   'Current Allied Saving Throw',\n",
    "                                   'Current Allied Damage Roll',\n",
    "                                   'Current Enemy Ability Check',\n",
    "                                   'Current Enemy Attack Roll',\n",
    "                                   'Current Enemy Saving Throw',\n",
    "                                   'Current Enemy Damage Roll',\n",
    "                                   ])\n",
    "    # create situation\n",
    "    combat_situation = generate_situation(character_num)\n",
    "    \n",
    "      # for each entity, create a column for location within a 52x52 grid\n",
    "\n",
    "    # add the Character_Actions.Attack_Action(entity,combat_situation) to each entity's actions\n",
    "    for entity in range(len(combat_situation)):\n",
    "        combat_situation[entity].Actions['None'] = Character_Actions.No_Action(combat_situation[entity],combat_situation,combat_log_new)\n",
    "        combat_situation[entity].Bonus_Actions['None'] = Character_Actions.No_Bonus_Action(combat_situation[entity],combat_situation,combat_log_new)\n",
    "        combat_situation[entity].Actions['Attack'] = Character_Actions.Attack_Action(combat_situation[entity],combat_situation,combat_log_new)\n",
    "        combat_situation[entity].Actions['Dodge'] = Character_Actions.Dodge_Action(combat_situation[entity],combat_situation,combat_log_new)\n",
    "\n",
    "        Character_Actions.Equip_Weapon(combat_situation[entity],Character_Actions.Choose_Random_Weapon(combat_situation[entity]))\n",
    "\n",
    "\n",
    "    # loop that continues combat until conclusion (aka when one creature's current hp is 0 or less)\n",
    "        # loop that records each round in \n",
    "    combat_round = 0\n",
    "    combat_log_new['Combat Round'] = combat_round\n",
    "    \n",
    "    # now create a loop that takes the last row of the combat_log_new and uses the actions of the entities to create a new row\n",
    "\n",
    "    for entity in range(len(combat_situation)):\n",
    "    \n",
    "        # randomly choose between the Attack_Action and the Dodge_Action\n",
    "        action = np.random.choice(['Attack','Dodge'])\n",
    "        new_round = combat_situation[entity].Actions[action]\n",
    "                \n",
    "        combat_log_new = pd.concat([combat_log_new, new_round], ignore_index=True, axis=0)\n",
    "\n",
    "    combat_log_new = combat_log_new.reindex(columns=['Combat Round'] + list(combat_log_new.columns[1:][combat_log_new.columns[1:].str.contains('Acting True')]) + list(combat_log_new.columns[1:][combat_log_new.columns[1:].str.contains('Current_HP')]) + list(combat_log_new.columns[1:][~combat_log_new.columns[1:].str.contains('Acting True') & ~combat_log_new.columns[1:].str.contains('Current_HP')]))\n",
    "\n",
    "    return combat_log_new\n"
   ]
  },
  {
   "cell_type": "code",
   "execution_count": 11,
   "metadata": {},
   "outputs": [],
   "source": [
    "# remove the number of columns limit\n",
    "pd.set_option('display.max_columns', None)"
   ]
  },
  {
   "cell_type": "code",
   "execution_count": 12,
   "metadata": {},
   "outputs": [
    {
     "name": "stdout",
     "output_type": "stream",
     "text": [
      "Character_Creator - Random Character Function - Class Choice:  <module 'Bard' from 'c:\\\\Users\\\\maxhi\\\\OneDrive\\\\Documents\\\\GitHub\\\\5e-Simulation\\\\Bard.py'>\n",
      "Create Character Function - Class: <module 'Bard' from 'c:\\\\Users\\\\maxhi\\\\OneDrive\\\\Documents\\\\GitHub\\\\5e-Simulation\\\\Bard.py'>\n",
      "Character_Creator - Random Character Function - Class Choice:  <module 'Artificer' from 'c:\\\\Users\\\\maxhi\\\\OneDrive\\\\Documents\\\\GitHub\\\\5e-Simulation\\\\Artificer.py'>\n",
      "Create Character Function - Class: <module 'Artificer' from 'c:\\\\Users\\\\maxhi\\\\OneDrive\\\\Documents\\\\GitHub\\\\5e-Simulation\\\\Artificer.py'>\n",
      "Character_Creator - Random Character Function - Class Choice:  <module 'Bard' from 'c:\\\\Users\\\\maxhi\\\\OneDrive\\\\Documents\\\\GitHub\\\\5e-Simulation\\\\Bard.py'>\n",
      "Create Character Function - Class: <module 'Bard' from 'c:\\\\Users\\\\maxhi\\\\OneDrive\\\\Documents\\\\GitHub\\\\5e-Simulation\\\\Bard.py'>\n",
      "Character_Creator - Random Character Function - Class Choice:  <module 'Artificer' from 'c:\\\\Users\\\\maxhi\\\\OneDrive\\\\Documents\\\\GitHub\\\\5e-Simulation\\\\Artificer.py'>\n",
      "Create Character Function - Class: <module 'Artificer' from 'c:\\\\Users\\\\maxhi\\\\OneDrive\\\\Documents\\\\GitHub\\\\5e-Simulation\\\\Artificer.py'>\n"
     ]
    },
    {
     "ename": "AttributeError",
     "evalue": "module 'Character_Actions' has no attribute 'No_Action'",
     "output_type": "error",
     "traceback": [
      "\u001b[1;31m---------------------------------------------------------------------------\u001b[0m",
      "\u001b[1;31mAttributeError\u001b[0m                            Traceback (most recent call last)",
      "Cell \u001b[1;32mIn[12], line 1\u001b[0m\n\u001b[1;32m----> 1\u001b[0m \u001b[43mgenerate_combat\u001b[49m\u001b[43m(\u001b[49m\u001b[38;5;241;43m4\u001b[39;49m\u001b[43m)\u001b[49m\n",
      "Cell \u001b[1;32mIn[10], line 46\u001b[0m, in \u001b[0;36mgenerate_combat\u001b[1;34m(character_num)\u001b[0m\n\u001b[0;32m     42\u001b[0m   \u001b[38;5;66;03m# for each entity, create a column for location within a 52x52 grid\u001b[39;00m\n\u001b[0;32m     43\u001b[0m \n\u001b[0;32m     44\u001b[0m \u001b[38;5;66;03m# add the Character_Actions.Attack_Action(entity,combat_situation) to each entity's actions\u001b[39;00m\n\u001b[0;32m     45\u001b[0m \u001b[38;5;28;01mfor\u001b[39;00m entity \u001b[38;5;129;01min\u001b[39;00m \u001b[38;5;28mrange\u001b[39m(\u001b[38;5;28mlen\u001b[39m(combat_situation)):\n\u001b[1;32m---> 46\u001b[0m     combat_situation[entity]\u001b[38;5;241m.\u001b[39mActions[\u001b[38;5;124m'\u001b[39m\u001b[38;5;124mNone\u001b[39m\u001b[38;5;124m'\u001b[39m] \u001b[38;5;241m=\u001b[39m \u001b[43mCharacter_Actions\u001b[49m\u001b[38;5;241;43m.\u001b[39;49m\u001b[43mNo_Action\u001b[49m(combat_situation[entity],combat_situation,combat_log_new)\n\u001b[0;32m     47\u001b[0m     combat_situation[entity]\u001b[38;5;241m.\u001b[39mBonus_Actions[\u001b[38;5;124m'\u001b[39m\u001b[38;5;124mNone\u001b[39m\u001b[38;5;124m'\u001b[39m] \u001b[38;5;241m=\u001b[39m Character_Actions\u001b[38;5;241m.\u001b[39mNo_Bonus_Action(combat_situation[entity],combat_situation,combat_log_new)\n\u001b[0;32m     48\u001b[0m     combat_situation[entity]\u001b[38;5;241m.\u001b[39mActions[\u001b[38;5;124m'\u001b[39m\u001b[38;5;124mAttack\u001b[39m\u001b[38;5;124m'\u001b[39m] \u001b[38;5;241m=\u001b[39m Character_Actions\u001b[38;5;241m.\u001b[39mAttack_Action(combat_situation[entity],combat_situation,combat_log_new)\n",
      "\u001b[1;31mAttributeError\u001b[0m: module 'Character_Actions' has no attribute 'No_Action'"
     ]
    }
   ],
   "source": [
    "generate_combat(4)"
   ]
  },
  {
   "cell_type": "code",
   "execution_count": null,
   "metadata": {},
   "outputs": [],
   "source": []
  }
 ],
 "metadata": {
  "kernelspec": {
   "display_name": "Python 3",
   "language": "python",
   "name": "python3"
  },
  "language_info": {
   "codemirror_mode": {
    "name": "ipython",
    "version": 3
   },
   "file_extension": ".py",
   "mimetype": "text/x-python",
   "name": "python",
   "nbconvert_exporter": "python",
   "pygments_lexer": "ipython3",
   "version": "3.12.0"
  }
 },
 "nbformat": 4,
 "nbformat_minor": 2
}
