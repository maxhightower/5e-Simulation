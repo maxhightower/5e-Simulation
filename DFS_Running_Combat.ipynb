{
 "cells": [
  {
   "cell_type": "code",
   "execution_count": 1,
   "metadata": {},
   "outputs": [],
   "source": [
    "# DFS running combat"
   ]
  },
  {
   "cell_type": "code",
   "execution_count": 2,
   "metadata": {},
   "outputs": [],
   "source": [
    "import multiprocessing"
   ]
  },
  {
   "cell_type": "code",
   "execution_count": 3,
   "metadata": {},
   "outputs": [],
   "source": [
    "from DFS_World_States import world, world_grid_states, Weapon, Potion, Shield, Wand\n",
    "from DFS_Universal_Rules import entity, theoretical_turn_length, subaction_dict, target_distance_scores, fire_bolt, ray_of_frost, shield\n",
    "from DFS_Action_Series import RuleBasedSequenceDFS, action_rules \n",
    "from DFS_Location_Series import RuleBasedLocationSequenceDFS2, location_rules\n",
    "from DFS_Functions import precalc_reward_series, analyze_reward_distribution, post_loc_series_reward_calc, post_obj_reward_series_calc, post_obj_reward_series_calc2\n",
    "from DFS_Object_Series import RuleBasedObjectSequenceDFS1, object_rules"
   ]
  },
  {
   "cell_type": "code",
   "execution_count": 4,
   "metadata": {},
   "outputs": [],
   "source": [
    "stage = world(11)\n",
    "\n",
    "stage.generate_map()\n",
    "\n",
    "actor = entity(stage)\n",
    "actor.add_spell(fire_bolt)\n",
    "actor.add_spell(ray_of_frost)\n",
    "actor.add_spell(shield)\n",
    "\n",
    "stage.add_enemy((1,1))\n",
    "stage.add_enemy((-2,0))\n",
    "stage.add_enemy((0,3))\n",
    "#stage.add_enemy((2,2))\n",
    "#stage.add_enemy((-3,-3))\n",
    "#stage.add_enemy((1,-1))\n",
    "\n",
    "stage.add_coin((3,0))\n",
    "stage.add_coin((-1,-1))\n",
    "stage.add_coin((1,1))\n",
    "\n",
    "stage.add_item_to_inventory(actor, Weapon('dagger1', 'weapon', 1, 1, 0))\n",
    "stage.add_item_to_inventory(actor, Weapon('dagger2', 'weapon', 1, 1, 0))\n",
    "stage.add_item_to_inventory(actor, Weapon('greataxe', 'weapon', 1, 1, 0))\n",
    "stage.add_item_to_inventory(actor, Shield('shield','shield', 1))\n",
    "stage.add_item_to_inventory(actor, Wand('wand','wand', 1))\n",
    "\n",
    "\n",
    "stage.add_weapon_dagger((-2,-1))\n",
    "stage.add_weapon_dagger((-1,-2))\n",
    "stage.add_weapon_greataxe((2,0))\n"
   ]
  },
  {
   "cell_type": "code",
   "execution_count": 5,
   "metadata": {},
   "outputs": [],
   "source": [
    "#stage.grid2"
   ]
  },
  {
   "cell_type": "code",
   "execution_count": 6,
   "metadata": {},
   "outputs": [],
   "source": [
    "action_sequence_generator = RuleBasedSequenceDFS(min_length=0,max_length=theoretical_turn_length, start=0, end=len(subaction_dict), rules=action_rules, acting_entity=actor)\n",
    "action_series_full_list = action_sequence_generator.generate_sequences()\n",
    "#action_series_full_list\n",
    "\n",
    "#action_sequence_generator = ParallelizedRuleBasedSequenceDFS(min_length=0, max_length=theoretical_turn_length, start=0, end=len(subaction_dict), rules=action_rules, acting_entity=actor)\n",
    "#action_series_full_list = action_sequence_generator.generate_sequences()\n",
    "#action_series_full_list\n",
    "\n",
    "\n"
   ]
  },
  {
   "cell_type": "code",
   "execution_count": 7,
   "metadata": {},
   "outputs": [],
   "source": [
    "reward_series_full_list = precalc_reward_series(action_series_full_list, actor)\n",
    "#reward_series_full_list"
   ]
  },
  {
   "cell_type": "code",
   "execution_count": 8,
   "metadata": {},
   "outputs": [
    {
     "name": "stdout",
     "output_type": "stream",
     "text": [
      "Total count: 1442210\n",
      "High: 8\n",
      "Low: -2\n",
      "\n",
      "Reward Distribution:\n",
      "% of -2s: 0.08%\n",
      "% of -1s: 1.12%\n",
      "% of 0s: 6.22%\n",
      "% of 1s: 16.29%\n",
      "% of 2s: 32.19%\n",
      "% of 3s: 28.40%\n",
      "% of 4s: 11.68%\n",
      "% of 5s: 3.31%\n",
      "% of 6s: 0.66%\n",
      "% of 7s: 0.05%\n",
      "% of 8s: 0.00%\n",
      "\n",
      "Quality Threshold: 4.0\n",
      "Total Qualifiers: 226424\n",
      "\n"
     ]
    }
   ],
   "source": [
    "analyze_reward_distribution(reward_series_full_list, action_series_full_list)"
   ]
  },
  {
   "cell_type": "code",
   "execution_count": 9,
   "metadata": {},
   "outputs": [],
   "source": [
    "location_series_generator = RuleBasedLocationSequenceDFS2(action_series_list=action_series_full_list,\n",
    "                                                             reward_series_list=reward_series_full_list,\n",
    "                                                             location_rules=location_rules,\n",
    "                                                             acting_entity=actor,\n",
    "                                                             target_distance_scores=target_distance_scores)\n",
    "location_series_full_list = location_series_generator.generate_sequences()"
   ]
  },
  {
   "cell_type": "code",
   "execution_count": 10,
   "metadata": {},
   "outputs": [],
   "source": [
    "post_location_reward_list = post_loc_series_reward_calc(action_series_full_list, location_series_full_list, reward_series_full_list, actor)"
   ]
  },
  {
   "cell_type": "code",
   "execution_count": 13,
   "metadata": {},
   "outputs": [
    {
     "name": "stdout",
     "output_type": "stream",
     "text": [
      "551029\n"
     ]
    }
   ],
   "source": [
    "print(len(post_location_reward_list))\n",
    "#post_location_reward_list"
   ]
  },
  {
   "cell_type": "code",
   "execution_count": 12,
   "metadata": {},
   "outputs": [
    {
     "ename": "IndexError",
     "evalue": "list index out of range",
     "output_type": "error",
     "traceback": [
      "\u001b[1;31m---------------------------------------------------------------------------\u001b[0m",
      "\u001b[1;31mIndexError\u001b[0m                                Traceback (most recent call last)",
      "Cell \u001b[1;32mIn[12], line 6\u001b[0m\n\u001b[0;32m      1\u001b[0m \u001b[38;5;66;03m# Object Series\u001b[39;00m\n\u001b[0;32m      2\u001b[0m object_series_generator \u001b[38;5;241m=\u001b[39m RuleBasedObjectSequenceDFS1(post_location_reward_list \u001b[38;5;241m=\u001b[39m post_location_reward_list, \n\u001b[0;32m      3\u001b[0m                                                      target_distance_scores \u001b[38;5;241m=\u001b[39m target_distance_scores,\n\u001b[0;32m      4\u001b[0m                                                      object_rules \u001b[38;5;241m=\u001b[39m object_rules, \n\u001b[0;32m      5\u001b[0m                                                      acting_entity \u001b[38;5;241m=\u001b[39m actor)\n\u001b[1;32m----> 6\u001b[0m object_series_full_list \u001b[38;5;241m=\u001b[39m \u001b[43mobject_series_generator\u001b[49m\u001b[38;5;241;43m.\u001b[39;49m\u001b[43mgenerate_object_sequences\u001b[49m\u001b[43m(\u001b[49m\u001b[43m)\u001b[49m\n",
      "File \u001b[1;32mc:\\Users\\maxhi\\OneDrive\\Documents\\GitHub\\5e-Simulation\\DFS_Object_Series.py:274\u001b[0m, in \u001b[0;36mRuleBasedObjectSequenceDFS1.generate_object_sequences\u001b[1;34m(self)\u001b[0m\n\u001b[0;32m    267\u001b[0m             \u001b[38;5;66;03m# find all the obejcts that can be interacted with\u001b[39;00m\n\u001b[0;32m    268\u001b[0m     \u001b[38;5;66;03m#print(f'potential objects: {potential_objects}')\u001b[39;00m\n\u001b[0;32m    269\u001b[0m \n\u001b[0;32m    270\u001b[0m     \u001b[38;5;66;03m#print(f'beginning next_object loop')\u001b[39;00m\n\u001b[0;32m    271\u001b[0m     \u001b[38;5;28;01mfor\u001b[39;00m next_object \u001b[38;5;129;01min\u001b[39;00m potential_objects:\n\u001b[0;32m    272\u001b[0m         \u001b[38;5;66;03m# and for each object that can be interacted with\u001b[39;00m\n\u001b[1;32m--> 274\u001b[0m         sequences \u001b[38;5;241m=\u001b[39m \u001b[38;5;28;43mself\u001b[39;49m\u001b[38;5;241;43m.\u001b[39;49m\u001b[43mdfs\u001b[49m\u001b[43m(\u001b[49m\u001b[43m[\u001b[49m\u001b[43m]\u001b[49m\u001b[43m,\u001b[49m\u001b[43m \u001b[49m\u001b[43mnext_object\u001b[49m\u001b[43m,\u001b[49m\u001b[43m \u001b[49m\u001b[38;5;28;43mself\u001b[39;49m\u001b[38;5;241;43m.\u001b[39;49m\u001b[43macting_entity\u001b[49m\u001b[43m,\u001b[49m\u001b[43m \u001b[49m\u001b[43mact_loc_rew\u001b[49m\u001b[43m,\u001b[49m\u001b[43m \u001b[49m\u001b[43mpotential_objects\u001b[49m\u001b[43m,\u001b[49m\u001b[43m \u001b[49m\u001b[43mpost_location_reward_list\u001b[49m\u001b[43m)\u001b[49m\n\u001b[0;32m    276\u001b[0m         \u001b[38;5;28mself\u001b[39m\u001b[38;5;241m.\u001b[39mobject_series_list\u001b[38;5;241m.\u001b[39mappend(sequences)\n\u001b[0;32m    283\u001b[0m \u001b[38;5;66;03m#else:\u001b[39;00m\n\u001b[0;32m    284\u001b[0m      \u001b[38;5;66;03m#self.object_series_list.append([])\u001b[39;00m\n",
      "File \u001b[1;32mc:\\Users\\maxhi\\OneDrive\\Documents\\GitHub\\5e-Simulation\\DFS_Object_Series.py:211\u001b[0m, in \u001b[0;36mRuleBasedObjectSequenceDFS1.dfs\u001b[1;34m(self, current_sequence, next_object, acting_entity, act_loc_rew, available_objects, post_location_reward_list)\u001b[0m\n\u001b[0;32m    208\u001b[0m         current_sequence\u001b[38;5;241m.\u001b[39mappend(next_object)\n\u001b[0;32m    209\u001b[0m         \u001b[38;5;66;03m#print(f'dfs; appending current sequence: {current_sequence}')\u001b[39;00m\n\u001b[1;32m--> 211\u001b[0m         \u001b[38;5;28mself\u001b[39m\u001b[38;5;241m.\u001b[39mobject_series_list\u001b[38;5;241m.\u001b[39mappend(\u001b[38;5;28;43mself\u001b[39;49m\u001b[38;5;241;43m.\u001b[39;49m\u001b[43mdfs\u001b[49m\u001b[43m(\u001b[49m\u001b[43mcurrent_sequence\u001b[49m\u001b[43m,\u001b[49m\u001b[43m \u001b[49m\u001b[43mnext_object\u001b[49m\u001b[43m,\u001b[49m\u001b[43m \u001b[49m\u001b[43macting_entity\u001b[49m\u001b[43m,\u001b[49m\u001b[43m \u001b[49m\u001b[43mact_loc_rew\u001b[49m\u001b[43m,\u001b[49m\u001b[43m \u001b[49m\u001b[43mpotential_objects\u001b[49m\u001b[43m,\u001b[49m\u001b[43m \u001b[49m\u001b[43mpost_location_reward_list\u001b[49m\u001b[43m)\u001b[49m)\n\u001b[0;32m    212\u001b[0m         current_sequence\u001b[38;5;241m.\u001b[39mpop()\n\u001b[0;32m    214\u001b[0m \u001b[38;5;28;01mreturn\u001b[39;00m \u001b[38;5;28mself\u001b[39m\u001b[38;5;241m.\u001b[39mobject_series_list\n",
      "File \u001b[1;32mc:\\Users\\maxhi\\OneDrive\\Documents\\GitHub\\5e-Simulation\\DFS_Object_Series.py:211\u001b[0m, in \u001b[0;36mRuleBasedObjectSequenceDFS1.dfs\u001b[1;34m(self, current_sequence, next_object, acting_entity, act_loc_rew, available_objects, post_location_reward_list)\u001b[0m\n\u001b[0;32m    208\u001b[0m         current_sequence\u001b[38;5;241m.\u001b[39mappend(next_object)\n\u001b[0;32m    209\u001b[0m         \u001b[38;5;66;03m#print(f'dfs; appending current sequence: {current_sequence}')\u001b[39;00m\n\u001b[1;32m--> 211\u001b[0m         \u001b[38;5;28mself\u001b[39m\u001b[38;5;241m.\u001b[39mobject_series_list\u001b[38;5;241m.\u001b[39mappend(\u001b[38;5;28;43mself\u001b[39;49m\u001b[38;5;241;43m.\u001b[39;49m\u001b[43mdfs\u001b[49m\u001b[43m(\u001b[49m\u001b[43mcurrent_sequence\u001b[49m\u001b[43m,\u001b[49m\u001b[43m \u001b[49m\u001b[43mnext_object\u001b[49m\u001b[43m,\u001b[49m\u001b[43m \u001b[49m\u001b[43macting_entity\u001b[49m\u001b[43m,\u001b[49m\u001b[43m \u001b[49m\u001b[43mact_loc_rew\u001b[49m\u001b[43m,\u001b[49m\u001b[43m \u001b[49m\u001b[43mpotential_objects\u001b[49m\u001b[43m,\u001b[49m\u001b[43m \u001b[49m\u001b[43mpost_location_reward_list\u001b[49m\u001b[43m)\u001b[49m)\n\u001b[0;32m    212\u001b[0m         current_sequence\u001b[38;5;241m.\u001b[39mpop()\n\u001b[0;32m    214\u001b[0m \u001b[38;5;28;01mreturn\u001b[39;00m \u001b[38;5;28mself\u001b[39m\u001b[38;5;241m.\u001b[39mobject_series_list\n",
      "File \u001b[1;32mc:\\Users\\maxhi\\OneDrive\\Documents\\GitHub\\5e-Simulation\\DFS_Object_Series.py:200\u001b[0m, in \u001b[0;36mRuleBasedObjectSequenceDFS1.dfs\u001b[1;34m(self, current_sequence, next_object, acting_entity, act_loc_rew, available_objects, post_location_reward_list)\u001b[0m\n\u001b[0;32m    190\u001b[0m         \u001b[38;5;28;01mreturn\u001b[39;00m current_sequence\u001b[38;5;241m.\u001b[39mcopy()\n\u001b[0;32m    193\u001b[0m \u001b[38;5;66;03m# the contingency for if less objects are available\u001b[39;00m\n\u001b[0;32m    194\u001b[0m \u001b[38;5;66;03m#if len(current_sequence) == len(available_objects) and len(available_objects) < len([x for x in act_loc_rew[0] if x in subactions_req_objects]):\u001b[39;00m\n\u001b[0;32m    195\u001b[0m \u001b[38;5;66;03m#    if self.check_rules(current_sequence, next_object, acting_entity, act_loc_rew):\u001b[39;00m\n\u001b[0;32m    196\u001b[0m \u001b[38;5;66;03m#        return current_sequence.copy()\u001b[39;00m\n\u001b[0;32m    197\u001b[0m \n\u001b[0;32m    198\u001b[0m \u001b[38;5;66;03m# there needs to be a minimum number of objects then for scenario generation, however through class features that may not be a problem\u001b[39;00m\n\u001b[1;32m--> 200\u001b[0m potential_objects \u001b[38;5;241m=\u001b[39m \u001b[38;5;28;43mself\u001b[39;49m\u001b[38;5;241;43m.\u001b[39;49m\u001b[43mget_potential_objects\u001b[49m\u001b[43m(\u001b[49m\u001b[43mcurrent_sequence\u001b[49m\u001b[43m,\u001b[49m\u001b[43m \u001b[49m\n\u001b[0;32m    201\u001b[0m \u001b[43m                                               \u001b[49m\u001b[43macting_entity\u001b[49m\u001b[43m,\u001b[49m\u001b[43m \u001b[49m\n\u001b[0;32m    202\u001b[0m \u001b[43m                                               \u001b[49m\u001b[43mact_loc_rew\u001b[49m\u001b[43m)\u001b[49m\n\u001b[0;32m    204\u001b[0m \u001b[38;5;66;03m#print(f'number of potential objects: {len(potential_objects)}')\u001b[39;00m\n\u001b[0;32m    206\u001b[0m \u001b[38;5;28;01mfor\u001b[39;00m next_object \u001b[38;5;129;01min\u001b[39;00m potential_objects:\n",
      "File \u001b[1;32mc:\\Users\\maxhi\\OneDrive\\Documents\\GitHub\\5e-Simulation\\DFS_Object_Series.py:89\u001b[0m, in \u001b[0;36mRuleBasedObjectSequenceDFS1.get_potential_objects\u001b[1;34m(self, sequence, acting_entity, post_location_reward_list)\u001b[0m\n\u001b[0;32m     84\u001b[0m object_series \u001b[38;5;241m=\u001b[39m [x \u001b[38;5;28;01mfor\u001b[39;00m x \u001b[38;5;129;01min\u001b[39;00m action_series \u001b[38;5;28;01mif\u001b[39;00m x \u001b[38;5;129;01min\u001b[39;00m subactions_req_objects]\n\u001b[0;32m     86\u001b[0m \u001b[38;5;66;03m#print(f'object series: {object_series}')\u001b[39;00m\n\u001b[0;32m     87\u001b[0m \u001b[38;5;66;03m#print(f'object subaction index: {object_subaction_index}')\u001b[39;00m\n\u001b[1;32m---> 89\u001b[0m object_subaction \u001b[38;5;241m=\u001b[39m \u001b[43mobject_series\u001b[49m\u001b[43m[\u001b[49m\u001b[43mobject_subaction_index\u001b[49m\u001b[43m]\u001b[49m\n\u001b[0;32m     91\u001b[0m \u001b[38;5;66;03m#print(f'get potential objects')\u001b[39;00m\n\u001b[0;32m     92\u001b[0m pseudo_inventory, pseudo_main_hand, pseudo_off_hand, pseudo_armor_equipped, pseudo_world \u001b[38;5;241m=\u001b[39m generate_pseudo_history(acting_entity,sequence, post_location_reward_list, object_subaction_index)\n",
      "\u001b[1;31mIndexError\u001b[0m: list index out of range"
     ]
    }
   ],
   "source": [
    "# Object Series\n",
    "object_series_generator = RuleBasedObjectSequenceDFS1(post_location_reward_list = post_location_reward_list, \n",
    "                                                     target_distance_scores = target_distance_scores,\n",
    "                                                     object_rules = object_rules, \n",
    "                                                     acting_entity = actor)\n",
    "object_series_full_list = object_series_generator.generate_object_sequences()"
   ]
  },
  {
   "cell_type": "code",
   "execution_count": null,
   "metadata": {},
   "outputs": [],
   "source": [
    "\n",
    "\n",
    "#print(len(object_series_full_list))\n",
    "\n",
    "#object_series_full_list\n",
    "\n",
    "#for i in object_series_full_list:\n",
    "#    for j in i:\n",
    "#      print(j)\n",
    "\n",
    "#    print('\\n')"
   ]
  },
  {
   "cell_type": "code",
   "execution_count": null,
   "metadata": {},
   "outputs": [],
   "source": [
    "# I want the number of items in the object_series_full_list that are not empty\n",
    "len([i for i in object_series_full_list if i != []])"
   ]
  },
  {
   "cell_type": "code",
   "execution_count": null,
   "metadata": {},
   "outputs": [],
   "source": [
    "#post_location_reward_list"
   ]
  },
  {
   "cell_type": "code",
   "execution_count": null,
   "metadata": {},
   "outputs": [],
   "source": [
    "#object_series_full_list"
   ]
  },
  {
   "cell_type": "code",
   "execution_count": 16,
   "metadata": {},
   "outputs": [],
   "source": [
    "#act_loc_obj_rew = create_act_loc_obj_rew(post_location_reward_list, object_series_full_list, actor)\n",
    "#act_loc_obj_rew"
   ]
  },
  {
   "cell_type": "code",
   "execution_count": null,
   "metadata": {},
   "outputs": [],
   "source": [
    "post_object_reward_list = post_obj_reward_series_calc2(object_series_full_list, actor)\n",
    "post_object_reward_list"
   ]
  },
  {
   "cell_type": "code",
   "execution_count": 18,
   "metadata": {},
   "outputs": [],
   "source": [
    "#post_object_reward_list = post_obj_reward_series_calc(action_series_full_list = action_series_full_list, \n",
    "#                                                      location_series_full_list = location_series_full_list, \n",
    "#                                                      object_series_full_list = object_series_full_list, \n",
    "#                                                      reward_series_full_list = reward_series_full_list, \n",
    "#                                                      acting_entity = actor)\n",
    "\n",
    "# this one will include how much damage is being dealt\n",
    "# if an effective weapon is equipped\n",
    "# how many coins are picked up"
   ]
  },
  {
   "cell_type": "code",
   "execution_count": 19,
   "metadata": {},
   "outputs": [],
   "source": [
    "# entity series list???\n",
    "# in order to specify which entity is being targeted\n",
    "\n",
    "# shortcuts:\n",
    "# - currently based on the location series, if there is only one entity in a space, the entity is automatically targeted\n",
    "# - only if there are multiple entities in a space, the entity series is used to determine the target"
   ]
  },
  {
   "cell_type": "code",
   "execution_count": 20,
   "metadata": {},
   "outputs": [],
   "source": [
    "# processing a round of combat that includes the queue of actions and possible reactions other entities take"
   ]
  },
  {
   "cell_type": "code",
   "execution_count": 21,
   "metadata": {},
   "outputs": [],
   "source": [
    "# what needs to happen before I can be running combat?\n",
    "# - the function to process a creature's turn needs to be done\n",
    "# - the function to process everyone else's reaction needs to be operational\n",
    "# - enemies need to be able to take their turn, currently they operate as a form of static entity\n",
    "\n"
   ]
  },
  {
   "cell_type": "code",
   "execution_count": 22,
   "metadata": {},
   "outputs": [],
   "source": [
    "# what needs to happen before the next stage?\n",
    "# - combat situations needs to be randomly generated\n",
    "# - combat scenarios need to be ran millions of times"
   ]
  }
 ],
 "metadata": {
  "kernelspec": {
   "display_name": "Python 3",
   "language": "python",
   "name": "python3"
  },
  "language_info": {
   "codemirror_mode": {
    "name": "ipython",
    "version": 3
   },
   "file_extension": ".py",
   "mimetype": "text/x-python",
   "name": "python",
   "nbconvert_exporter": "python",
   "pygments_lexer": "ipython3",
   "version": "3.12.0"
  }
 },
 "nbformat": 4,
 "nbformat_minor": 2
}
