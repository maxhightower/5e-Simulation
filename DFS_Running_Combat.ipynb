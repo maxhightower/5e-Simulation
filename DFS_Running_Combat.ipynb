{
 "cells": [
  {
   "cell_type": "code",
   "execution_count": 18,
   "metadata": {},
   "outputs": [],
   "source": [
    "# DFS running combat"
   ]
  },
  {
   "cell_type": "code",
   "execution_count": null,
   "metadata": {},
   "outputs": [],
   "source": []
  },
  {
   "cell_type": "code",
   "execution_count": 19,
   "metadata": {},
   "outputs": [],
   "source": [
    "from DFS_World_States import world, world_grid_states\n",
    "from DFS_Universal_Rules import entity, theoretical_turn_length, subaction_dict, target_distance_scores\n",
    "from DFS_Action_Series import RuleBasedSequenceDFS, action_rules\n",
    "from DFS_Location_Series import RuleBasedLocationSequenceDFS2, location_rules\n",
    "from DFS_Functions import precalc_reward_series, analyze_reward_distribution, post_loc_series_reward_calc"
   ]
  },
  {
   "cell_type": "code",
   "execution_count": 20,
   "metadata": {},
   "outputs": [],
   "source": [
    "stage = world(11)\n",
    "\n",
    "stage.generate_map()\n",
    "\n",
    "actor = entity(stage)\n",
    "\n",
    "stage.add_enemy((1,1))\n",
    "stage.add_enemy((-2,0))\n",
    "stage.add_enemy((0,3))\n",
    "stage.add_enemy((2,2))\n",
    "stage.add_enemy((-3,-3))\n",
    "stage.add_enemy((1,-1))\n",
    "\n",
    "stage.add_coin((3,0))\n",
    "stage.add_coin((-1,-1))\n",
    "stage.add_coin((1,1))"
   ]
  },
  {
   "cell_type": "code",
   "execution_count": null,
   "metadata": {},
   "outputs": [],
   "source": [
    "action_sequence_generator = RuleBasedSequenceDFS(min_length=0,max_length=theoretical_turn_length, start=0, end=len(subaction_dict), rules=action_rules, acting_entity=actor)\n",
    "action_series_full_list = action_sequence_generator.generate_sequences()\n",
    "action_series_full_list"
   ]
  },
  {
   "cell_type": "code",
   "execution_count": null,
   "metadata": {},
   "outputs": [],
   "source": [
    "reward_series_full_list = precalc_reward_series(action_series_full_list, actor)\n",
    "reward_series_full_list"
   ]
  },
  {
   "cell_type": "code",
   "execution_count": null,
   "metadata": {},
   "outputs": [],
   "source": [
    "analyze_reward_distribution(reward_series_full_list, action_series_full_list)"
   ]
  },
  {
   "cell_type": "code",
   "execution_count": null,
   "metadata": {},
   "outputs": [],
   "source": [
    "location_series_generator = RuleBasedLocationSequenceDFS2(action_series_list=action_series_full_list,\n",
    "                                                             reward_series_list=reward_series_full_list,\n",
    "                                                             location_rules=location_rules,\n",
    "                                                             acting_entity=actor,\n",
    "                                                             target_distance_scores=target_distance_scores)\n",
    "location_series_full_list = location_series_generator.generate_sequences()"
   ]
  },
  {
   "cell_type": "code",
   "execution_count": null,
   "metadata": {},
   "outputs": [],
   "source": [
    "post_reward_list = post_loc_series_reward_calc(action_series_full_list, location_series_full_list, reward_series_full_list, actor)"
   ]
  }
 ],
 "metadata": {
  "kernelspec": {
   "display_name": "Python 3",
   "language": "python",
   "name": "python3"
  },
  "language_info": {
   "codemirror_mode": {
    "name": "ipython",
    "version": 3
   },
   "file_extension": ".py",
   "mimetype": "text/x-python",
   "name": "python",
   "nbconvert_exporter": "python",
   "pygments_lexer": "ipython3",
   "version": "3.12.0"
  }
 },
 "nbformat": 4,
 "nbformat_minor": 2
}
