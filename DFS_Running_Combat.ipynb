{
 "cells": [
  {
   "cell_type": "code",
   "execution_count": 1,
   "metadata": {},
   "outputs": [],
   "source": [
    "# DFS running combat"
   ]
  },
  {
   "cell_type": "markdown",
   "metadata": {},
   "source": [
    "A series refers to the sequence of subactions and relevant details needed by the process_turn function.\n",
    "\n",
    "A full_list refers to the collection of series options an actor has to pick from."
   ]
  },
  {
   "cell_type": "code",
   "execution_count": 2,
   "metadata": {},
   "outputs": [],
   "source": [
    "import multiprocessing\n",
    "import matplotlib.pyplot as plt\n",
    "import numpy as np\n",
    "import pandas as pd\n",
    "import sys\n",
    "import csv"
   ]
  },
  {
   "cell_type": "code",
   "execution_count": 3,
   "metadata": {},
   "outputs": [],
   "source": [
    "from DFS_World_States import world, world_grid_states, Weapon, Potion, Shield, Wand\n",
    "from DFS_Universal_Rules import subaction_dict, target_distance_scores, fire_bolt, ray_of_frost, shield\n",
    "from DFS_Action_Series import RuleBasedSequenceDFS, action_rules_permit, action_rules_sources, RuleBasedSequenceDFS2\n",
    "from DFS_Location_Series import RuleBasedLocationSequenceDFS2, location_rules, location_rules_sources, RuleBasedLocationSequenceDFS3, location_rules_permit\n",
    "from DFS_Functions import analyze_reward_distribution, analyze_reward_distribution_series\n",
    "\n",
    "from DFS_Object_Series import RuleBasedObjectSequenceDFS1, object_rules, object_rules_sources\n",
    "from DFS_Entity_Series import RuleBasedEntitySequenceDFS, entity_rules, entity_rules_sources"
   ]
  },
  {
   "cell_type": "code",
   "execution_count": 4,
   "metadata": {},
   "outputs": [],
   "source": [
    "from DFS_Entities import entity\n",
    "from DFS_Reward_Calculators import check_rules_for_reward, calc_new_reward, precalc_reward, action_rules_reward, precalc_reward_series, post_loc_series_reward_calc, post_obj_reward_series_calc2, action_location_reward_rules_reward"
   ]
  },
  {
   "cell_type": "code",
   "execution_count": 5,
   "metadata": {},
   "outputs": [
    {
     "name": "stdout",
     "output_type": "stream",
     "text": [
      "[0, 1, 2, 3, 4, 5, 6, 7, 8, 9, 10, 11, 12, 13, 14, 15, 16, 17, 18, 19, 20, 21, 22, 23, 24, 25, 26, 27, 28, 29, 30, 31, 32, 33, 34, 35, 36, 37, 38, 39, 40, 41, 42, 43, 44, 45, 46, 47, 48, 49, 50, 51, 52, 53, 54]\n",
      "\n",
      "move_subactions_text ['move 1 space', 'move 2 space', 'move 3 space', 'move 4 space', 'move 5 space', 'move 6 space', 'go prone', 'stand up', 'mount', 'dismount']\n",
      "move_subactions_sources [['basic rules', 'speed'], ['basic rules', 'speed'], ['basic rules', 'speed'], ['basic rules', 'speed'], ['basic rules', 'speed'], ['basic rules', 'speed'], ['basic rules'], ['basic rules', 'speed'], ['basic rules', 'speed'], ['basic rules', 'speed']]\n",
      "move_subactions_reps [0, 1, 2, 3, 4, 5, 6, 7, 8, 9]\n",
      "action_subactions_text ['dodge', 'disengage', 'hide', 'search', 'object--action--ground_pickup', 'object--action--ground_drop_from_inventory', 'object--action--ground_drop_main_hand', 'object--action--ground_drop_off_hand', 'object--action--ground_drop_both_hands', 'object--action--self_equip_main_hand', 'object--action--self_equip_off_hand', 'object--action--self_equip_both_hands', 'object--action--self_unequip_main_hand', 'object--action--self_unequip_off_hand', 'object--action--self_unequip_both_hands', 'don_shield', 'doff_shield', 'feed_potion', 'attack--weapon--main_hand', 'attack--weapon--both_hands', 'grapple--main_hand', 'grapple--off_hand', 'unarmed_strike', 'shove--push', 'shove--prone', 'help--attack', 'help--skill', 'wake', 'stabilize', 'cast', 'escape_grapple']\n",
      "action_subactions_sources [['basic rules'], ['basic rules'], ['basic rules'], ['basic rules'], 15, 17, 21, 22, 23, 27, 28, 29, 33, 34, 35, 39, ['basic rules', 'hands'], ['basic rules', 'hands'], ['basic rules', 'hands'], ['basic rules', 'hands'], ['basic rules'], ['basic rules'], ['basic rules'], ['basic rules'], ['basic rules'], ['basic rules'], ['basic rules'], ['basic rules'], ['basic rules']]\n",
      "action_subactions_reps [10, 11, 12, 13, 15, 17, 21, 22, 23, 27, 28, 29, 33, 34, 35, 36, 37, 38, 39, 40, 42, 43, 44, 45, 46, 47, 48, 49, 50, 51, 52, 54]\n",
      "bonus_subactions_text ['attack--weapon--off_hand']\n",
      "bonus_subactions_sources [['basic rules', 'hands']]\n",
      "bonus_subactions_reps [41]\n",
      "free_subactions_text ['object--free--ground_pickup', 'object--free--ground_drop_main_hand', 'object--free--ground_drop_off_hand', 'object--free--ground_drop_both_hands', 'object--free--self_equip_main_hand', 'object--free--self_equip_off_hand', 'object--free--self_equip_both_hands', 'object--free--self_unequip_main_hand', 'object--free--self_unequip_off_hand', 'object--free--self_unequip_both_hands', ['end_concentration']]\n",
      "free_subactions_sources [['basic rules'], ['basic rules', 'hands'], ['basic rules', 'hands'], ['basic rules', 'hands'], ['basic rules', 'hands'], ['basic rules', 'hands'], ['basic rules', 'hands'], ['basic rules', 'hands'], ['basic rules', 'hands'], ['basic rules', 'hands'], ['basic rules']]\n",
      "free_subactions_reps [14, 18, 19, 20, 24, 25, 26, 30, 31, 32, [53]]\n",
      "attack_subactions_text ['attack--weapon--main_hand', 'attack--weapon--off_hand', 'attack--weapon--both_hands', 'grapple--main_hand', 'grapple--off_hand', 'unarmed_strike', 'shove--push', 'shove--prone']\n",
      "attack_subactions_sources [['basic rules', 'hands'], ['basic rules', 'hands'], ['basic rules', 'hands'], ['basic rules', 'hands'], ['basic rules', 'hands'], ['basic rules'], ['basic rules'], ['basic rules']]\n",
      "attack_subactions_reps [40, 41, 42, 43, 44, 45, 46, 47]\n",
      "object_subactions_text ['object--free--ground_pickup', 'object--action--ground_pickup', 'object--free--ground_drop_from_inventory', 'object--action--ground_drop_from_inventory', 'object--free--ground_drop_main_hand', 'object--free--ground_drop_off_hand', 'object--free--ground_drop_both_hands', 'object--action--ground_drop_main_hand', 'object--action--ground_drop_off_hand', 'object--action--ground_drop_both_hands', 'object--free--self_equip_main_hand', 'object--free--self_equip_off_hand', 'object--free--self_equip_both_hands', 'object--action--self_equip_main_hand', 'object--action--self_equip_off_hand', 'object--action--self_equip_both_hands', 'object--free--self_unequip_main_hand', 'object--free--self_unequip_off_hand', 'object--free--self_unequip_both_hands', 'object--action--self_unequip_main_hand', 'object--action--self_unequip_off_hand', 'object--action--self_unequip_both_hands', 'don_shield', 'doff_shield', 'drink_potion', 'feed_potion']\n",
      "object_subactions_sources [['basic rules'], ['basic rules'], ['basic rules'], ['basic rules'], ['basic rules', 'hands'], ['basic rules', 'hands'], ['basic rules', 'hands'], ['basic rules', 'hands'], ['basic rules', 'hands'], ['basic rules', 'hands'], ['basic rules', 'hands'], ['basic rules', 'hands'], ['basic rules', 'hands'], ['basic rules', 'hands'], ['basic rules', 'hands'], ['basic rules', 'hands'], ['basic rules', 'hands'], ['basic rules', 'hands'], ['basic rules', 'hands'], ['basic rules', 'hands'], ['basic rules', 'hands'], ['basic rules', 'hands'], ['basic rules'], ['basic rules'], ['basic rules'], ['basic rules']]\n",
      "object_subactions_reps [14, 15, 16, 17, 18, 19, 20, 21, 22, 23, 24, 25, 26, 27, 28, 29, 30, 31, 32, 33, 34, 35, 36, 37, 38, 39]\n",
      "effect_subactions_text []\n",
      "effect_subactions_sources []\n",
      "effect_subactions_reps []\n",
      "object_action_subactions [15, 17, 21, 22, 23, 27, 28, 29, 33, 34, 35, 36, 37, 38, 39]\n",
      "object_free_subactions [14, 16, 18, 19, 20, 24, 25, 26, 30, 31, 32]\n",
      "subactions_req_targets [14, 15, 16, 17, 18, 19, 20, 21, 22, 23, 39, 40, 41, 42, 43, 44, 45, 46, 47, 48, 49, 50, 51, 52, 54]\n",
      "subactions_req_allies [48, 49]\n",
      "subactions_req_objects [14, 15, 16, 17, 18, 19, 20, 21, 22, 23, 24, 25, 26, 27, 28, 29, 30, 31, 32, 33, 34, 35, 36, 37, 38, 39, 40, 41, 42, 43, 44, 52]\n",
      "subactions_req_entity [8, 39, 40, 41, 42, 43, 44, 45, 46, 47, 48, 49, 50, 51, 52, 54]\n",
      "subactions_req_location [0, 1, 2, 3, 4, 5, 8, 9, 14, 15, 16, 17, 18, 19, 20, 21, 22, 23, 39, 40, 41, 42, 43, 44, 45, 46, 47, 48, 49, 50, 51, 52, 54]\n",
      "conjoined_subactions []\n",
      "sub_effects []\n",
      "turn_effects []\n",
      "cast_subactions []\n",
      "target_distance_scores {0: 1, 1: 2, 2: 3, 3: 4, 4: 5, 5: 6, 8: 1, 9: 1, 14: 1, 15: 1, 16: 1, 17: 1, 18: 1, 19: 1, 20: 1, 21: 1, 22: 1, 23: 1, 39: 1, 40: 1, 41: 1, 42: 1, 43: 1, 44: 1, 45: 1, 46: 1, 47: 1, 48: 1, 49: 1, 50: 1, 51: 1, 54: 1}\n",
      "move_cost_dict {0: 1, 1: 2, 2: 3, 3: 4, 4: 5, 5: 6, 6: 0, 7: 3.0, 8: 3.0, 9: 3.0}\n",
      "free_subaction_groups [[14, 16, 18, 19, 20, 24, 25, 26, 30, 31, 32], [53]]\n"
     ]
    }
   ],
   "source": [
    "stage = world(11)\n",
    "\n",
    "stage.generate_map()\n",
    "\n",
    "actor = entity('player character',stage,None,'medium')\n",
    "stage.add_entity([0,0],actor)\n",
    "\n",
    "actor.subactions_based_on_move_speed()\n",
    "actor.subactions_post_move_speed()\n",
    "actor.subactions_universal()\n",
    "actor.subactions_object_interactions()\n",
    "actor.subactions_attack()\n",
    "actor.subactions_teamwork()\n",
    "actor.subactions_casting()\n",
    "actor.subactions_escape()\n",
    "\n",
    "actor.add_rules_for_dfs(action_rules_permit, 'action_rules', 'permit')\n",
    "actor.add_rules_for_dfs(action_rules_reward, 'action_rules', 'reward')\n",
    "actor.add_rules_for_dfs(location_rules_permit, 'location_rules', 'permit')\n",
    "actor.add_rules_for_dfs(action_location_reward_rules_reward, 'location_rules', 'reward')\n",
    "\n",
    "\n",
    "actor.print_subactions_and_catalog()\n",
    "\n",
    "actor.add_spell(fire_bolt)\n",
    "actor.add_spell(ray_of_frost)\n",
    "actor.add_spell(shield)\n",
    "\n",
    "stage.add_item_to_inventory(actor, Weapon('dagger1', 'weapon', 1, 1, 0))\n",
    "stage.add_item_to_inventory(actor, Weapon('dagger2', 'weapon', 1, 1, 0))\n",
    "stage.add_item_to_inventory(actor, Weapon('greataxe', 'weapon', 1, 1, 0))\n",
    "stage.add_item_to_inventory(actor, Shield('shield','shield', 1))\n",
    "stage.add_item_to_inventory(actor, Wand('wand','wand', 1))\n",
    "\n",
    "\n",
    "\n",
    "monster_one = entity('monster',stage,None,'small','goblin','1x1',False,6)\n",
    "stage.add_entity([2,2],monster_one)\n",
    "\n",
    "monster_two = entity('monster',stage,None,'medium','guard','1x1',False,6)\n",
    "stage.add_entity([1,1],monster_two)\n",
    "\n",
    "monster_three = entity('monster',stage,None,'large','horse','2x2',True,12)\n",
    "stage.add_entity([0,-3],monster_three)\n",
    "\n",
    "\n",
    "#stage.add_enemy((-2,0))\n",
    "#stage.add_enemy((0,3))\n",
    "#stage.add_enemy((2,2))\n",
    "#stage.add_enemy((-3,-3))\n",
    "#stage.add_enemy((1,-1))\n",
    "\n",
    "stage.add_coin((3,0))\n",
    "stage.add_coin((-1,-1))\n",
    "stage.add_coin((1,1))\n",
    "\n",
    "\n",
    "\n",
    "\n",
    "stage.add_weapon_dagger((-2,-1))\n",
    "stage.add_weapon_dagger((-1,-2))\n",
    "stage.add_weapon_greataxe((2,0))\n"
   ]
  },
  {
   "cell_type": "code",
   "execution_count": 6,
   "metadata": {},
   "outputs": [],
   "source": [
    "#stage.grid2"
   ]
  },
  {
   "cell_type": "code",
   "execution_count": 7,
   "metadata": {},
   "outputs": [],
   "source": [
    "# I should display a visual here of the grid and where each entity and object is located\n",
    "\n",
    "# stage.grid2 is a inhomogeneous list of lists of lists, ints, and strings that represent the grid\n",
    "\n",
    "# I only want to see the entities and objects, so I will create a new list of lists that only contains the entities and objects\n",
    "\n",
    "\n"
   ]
  },
  {
   "cell_type": "code",
   "execution_count": 8,
   "metadata": {},
   "outputs": [],
   "source": [
    "#action_sequence_generator = RuleBasedSequenceDFS(min_length=0,max_length=theoretical_turn_length, start=0, end=len(subaction_dict), rules=action_rules, acting_entity=actor)\n",
    "#action_series_full_list = action_sequence_generator.generate_sequences()\n",
    "#action_series_full_list"
   ]
  },
  {
   "cell_type": "code",
   "execution_count": 9,
   "metadata": {},
   "outputs": [],
   "source": [
    "#action_sequence_generator = RuleBasedSequenceDFS2(acting_entity=actor)\n",
    "#action_series_full_list = action_sequence_generator.generate_sequences()\n",
    "\n",
    "# I want to export this to a csv file so that if I run this code again, and the parameters are the same, I can just import the csv file instead of running the code again\n",
    "# need to store the parameters used so that I can check if they are the same as the current parameters\n",
    "#parameters = {'min_length':0,'max_length':theoretical_turn_length,'start':0,'end':len(subaction_dict),'rules':action_rules_permit,'acting_entity':actor}\n",
    "\n",
    "#action_series_full_list.to_csv('action_series_full_list.csv')\n",
    "#parameters.to_csv('parameters.csv')\n",
    "\n"
   ]
  },
  {
   "cell_type": "code",
   "execution_count": 10,
   "metadata": {},
   "outputs": [
    {
     "ename": "ValueError",
     "evalue": "The truth value of a DataFrame is ambiguous. Use a.empty, a.bool(), a.item(), a.any() or a.all().",
     "output_type": "error",
     "traceback": [
      "\u001b[1;31m---------------------------------------------------------------------------\u001b[0m",
      "\u001b[1;31mValueError\u001b[0m                                Traceback (most recent call last)",
      "\u001b[1;32m~\\AppData\\Local\\Temp\\ipykernel_16256\\3921880065.py\u001b[0m in \u001b[0;36m?\u001b[1;34m()\u001b[0m\n\u001b[0;32m     14\u001b[0m     \u001b[0mimported_parameters\u001b[0m \u001b[1;33m=\u001b[0m \u001b[0mpd\u001b[0m\u001b[1;33m.\u001b[0m\u001b[0mread_csv\u001b[0m\u001b[1;33m(\u001b[0m\u001b[1;34m'parameters.csv'\u001b[0m\u001b[1;33m)\u001b[0m\u001b[1;33m\u001b[0m\u001b[1;33m\u001b[0m\u001b[0m\n\u001b[0;32m     15\u001b[0m \u001b[1;32mexcept\u001b[0m\u001b[1;33m:\u001b[0m\u001b[1;33m\u001b[0m\u001b[1;33m\u001b[0m\u001b[0m\n\u001b[0;32m     16\u001b[0m     \u001b[0mimported_parameters\u001b[0m \u001b[1;33m=\u001b[0m \u001b[1;32mNone\u001b[0m\u001b[1;33m\u001b[0m\u001b[1;33m\u001b[0m\u001b[0m\n\u001b[0;32m     17\u001b[0m \u001b[1;33m\u001b[0m\u001b[0m\n\u001b[1;32m---> 18\u001b[1;33m \u001b[1;32mif\u001b[0m \u001b[0mparameters\u001b[0m \u001b[1;33m==\u001b[0m \u001b[0mimported_parameters\u001b[0m\u001b[1;33m:\u001b[0m\u001b[1;33m\u001b[0m\u001b[1;33m\u001b[0m\u001b[0m\n\u001b[0m\u001b[0;32m     19\u001b[0m     \u001b[0maction_series_full_list\u001b[0m \u001b[1;33m=\u001b[0m \u001b[0mpd\u001b[0m\u001b[1;33m.\u001b[0m\u001b[0mread_csv\u001b[0m\u001b[1;33m(\u001b[0m\u001b[1;34m'action_series_full_list.csv'\u001b[0m\u001b[1;33m)\u001b[0m\u001b[1;33m\u001b[0m\u001b[1;33m\u001b[0m\u001b[0m\n\u001b[0;32m     20\u001b[0m \u001b[1;33m\u001b[0m\u001b[0m\n\u001b[0;32m     21\u001b[0m \u001b[1;32melse\u001b[0m\u001b[1;33m:\u001b[0m\u001b[1;33m\u001b[0m\u001b[1;33m\u001b[0m\u001b[0m\n",
      "\u001b[1;32mc:\\Users\\maxhi\\AppData\\Local\\Programs\\Python\\Python312\\Lib\\site-packages\\pandas\\core\\generic.py\u001b[0m in \u001b[0;36m?\u001b[1;34m(self)\u001b[0m\n\u001b[0;32m   1517\u001b[0m     \u001b[1;33m@\u001b[0m\u001b[0mfinal\u001b[0m\u001b[1;33m\u001b[0m\u001b[1;33m\u001b[0m\u001b[0m\n\u001b[0;32m   1518\u001b[0m     \u001b[1;32mdef\u001b[0m \u001b[0m__nonzero__\u001b[0m\u001b[1;33m(\u001b[0m\u001b[0mself\u001b[0m\u001b[1;33m)\u001b[0m \u001b[1;33m->\u001b[0m \u001b[0mNoReturn\u001b[0m\u001b[1;33m:\u001b[0m\u001b[1;33m\u001b[0m\u001b[1;33m\u001b[0m\u001b[0m\n\u001b[1;32m-> 1519\u001b[1;33m         raise ValueError(\n\u001b[0m\u001b[0;32m   1520\u001b[0m             \u001b[1;33mf\"\u001b[0m\u001b[1;33mThe truth value of a \u001b[0m\u001b[1;33m{\u001b[0m\u001b[0mtype\u001b[0m\u001b[1;33m(\u001b[0m\u001b[0mself\u001b[0m\u001b[1;33m)\u001b[0m\u001b[1;33m.\u001b[0m\u001b[0m__name__\u001b[0m\u001b[1;33m}\u001b[0m\u001b[1;33m is ambiguous. \u001b[0m\u001b[1;33m\"\u001b[0m\u001b[1;33m\u001b[0m\u001b[1;33m\u001b[0m\u001b[0m\n\u001b[0;32m   1521\u001b[0m             \u001b[1;34m\"Use a.empty, a.bool(), a.item(), a.any() or a.all().\"\u001b[0m\u001b[1;33m\u001b[0m\u001b[1;33m\u001b[0m\u001b[0m\n\u001b[0;32m   1522\u001b[0m         \u001b[1;33m)\u001b[0m\u001b[1;33m\u001b[0m\u001b[1;33m\u001b[0m\u001b[0m\n",
      "\u001b[1;31mValueError\u001b[0m: The truth value of a DataFrame is ambiguous. Use a.empty, a.bool(), a.item(), a.any() or a.all()."
     ]
    }
   ],
   "source": [
    "# create an if statement that checks if the parameters are the same as the current parameters\n",
    "# if they are the same, import the csv files\n",
    "parameters = {'min_length':1,\n",
    "              'max_length': len(actor.subaction_catalog['free_subaction_groups']) + actor.speed + 1 + 1,\n",
    "              'start':0,\n",
    "              'end':len(actor.subactions),\n",
    "              'rules':f'{[x for x in actor.dfs_rules['action_rules']['permit']]}',\n",
    "              'acting_entity':actor\n",
    "              }\n",
    "\n",
    "\n",
    "\n",
    "try:\n",
    "    imported_parameters = pd.read_csv('parameters.csv')\n",
    "except:\n",
    "    imported_parameters = None\n",
    "\n",
    "if parameters == imported_parameters:\n",
    "    action_series_full_list = pd.read_csv('action_series_full_list.csv')\n",
    "    \n",
    "else:\n",
    "    action_sequence_generator = RuleBasedSequenceDFS2(acting_entity=actor)\n",
    "    action_series_full_list = action_sequence_generator.generate_sequences()\n",
    "\n",
    "    # export the action_series_full_list and parameters to csv files\n",
    "    with open('action_series_full_list.csv', 'w') as f:\n",
    "        write = csv.writer(f)\n",
    "        write.writerows(action_series_full_list)\n",
    "\n",
    "    with open('parameters.csv', 'w') as f:\n",
    "        write = csv.DictWriter(f, fieldnames=parameters.keys())\n",
    "        write.writerows(parameters)\n"
   ]
  },
  {
   "cell_type": "code",
   "execution_count": null,
   "metadata": {},
   "outputs": [],
   "source": [
    "parameters"
   ]
  },
  {
   "cell_type": "code",
   "execution_count": null,
   "metadata": {},
   "outputs": [],
   "source": []
  },
  {
   "cell_type": "code",
   "execution_count": null,
   "metadata": {},
   "outputs": [],
   "source": [
    "action_series_full_list"
   ]
  },
  {
   "cell_type": "code",
   "execution_count": 15,
   "metadata": {},
   "outputs": [],
   "source": [
    "#reward_series_full_list = precalc_reward_series(action_series_full_list, actor)\n",
    "#reward_series_full_list"
   ]
  },
  {
   "cell_type": "code",
   "execution_count": 16,
   "metadata": {},
   "outputs": [],
   "source": [
    "action_reward_series_full_list = calc_new_reward(action_series_full_list, actor, 'action')"
   ]
  },
  {
   "cell_type": "code",
   "execution_count": null,
   "metadata": {},
   "outputs": [],
   "source": [
    "action_reward_series_full_list"
   ]
  },
  {
   "cell_type": "code",
   "execution_count": null,
   "metadata": {},
   "outputs": [],
   "source": [
    "#analyze_reward_distribution(reward_series_full_list, action_series_full_list)\n",
    "#action_reward_series_full_list = [[action_series_full_list[i], reward_series_full_list[i]] for i in range(len(action_series_full_list))]\n",
    "\n",
    "analyze_reward_distribution_series(action_reward_series_full_list, actor, 99)"
   ]
  },
  {
   "cell_type": "code",
   "execution_count": 19,
   "metadata": {},
   "outputs": [],
   "source": [
    "#location_series_generator = RuleBasedLocationSequenceDFS2(action_series_list=action_series_full_list,\n",
    "#                                                             reward_series_list=reward_series_full_list,\n",
    "#                                                             location_rules=location_rules,\n",
    "#                                                             acting_entity=actor,\n",
    "#                                                             target_distance_scores=target_distance_scores)\n",
    "#location_series_full_list = location_series_generator.generate_sequences()"
   ]
  },
  {
   "cell_type": "code",
   "execution_count": null,
   "metadata": {},
   "outputs": [],
   "source": [
    "location_series_generator = RuleBasedLocationSequenceDFS3(acting_entity=actor,\n",
    "                                                          action_reward_series_full_list=action_reward_series_full_list)\n",
    "action_location_series_full_list = location_series_generator.generate_sequences()"
   ]
  },
  {
   "cell_type": "code",
   "execution_count": null,
   "metadata": {},
   "outputs": [],
   "source": [
    "action_location_series_full_list"
   ]
  },
  {
   "cell_type": "code",
   "execution_count": 18,
   "metadata": {},
   "outputs": [],
   "source": [
    "action_location_reward_series_full_list = calc_new_reward(action_location_series_full_list, actor, 'action_location_reward')"
   ]
  },
  {
   "cell_type": "code",
   "execution_count": null,
   "metadata": {},
   "outputs": [],
   "source": [
    "action_location_reward_series_full_list"
   ]
  },
  {
   "cell_type": "code",
   "execution_count": null,
   "metadata": {},
   "outputs": [],
   "source": [
    "analyze_reward_distribution_series(action_location_reward_series_full_list, actor, 99)"
   ]
  },
  {
   "cell_type": "code",
   "execution_count": null,
   "metadata": {},
   "outputs": [],
   "source": [
    "#post_location_reward_list = post_loc_series_reward_calc(action_series_full_list, location_series_full_list, reward_series_full_list, actor)"
   ]
  },
  {
   "cell_type": "code",
   "execution_count": null,
   "metadata": {},
   "outputs": [],
   "source": [
    "analyze_reward_distribution_series(post_location_reward_list, actor, 99)"
   ]
  },
  {
   "cell_type": "code",
   "execution_count": 12,
   "metadata": {},
   "outputs": [],
   "source": [
    "# Object Series\n",
    "object_series_generator = RuleBasedObjectSequenceDFS1(post_location_reward_list = post_location_reward_list, \n",
    "                                                     target_distance_scores = target_distance_scores,\n",
    "                                                     object_rules = object_rules, \n",
    "                                                     acting_entity = actor)\n",
    "object_series_full_list = object_series_generator.generate_object_sequences()"
   ]
  },
  {
   "cell_type": "code",
   "execution_count": null,
   "metadata": {},
   "outputs": [],
   "source": [
    "post_object_reward_list = post_obj_reward_series_calc2(object_series_full_list, actor)\n",
    "post_object_reward_list"
   ]
  },
  {
   "cell_type": "code",
   "execution_count": null,
   "metadata": {},
   "outputs": [],
   "source": [
    "analyze_reward_distribution_series(post_object_reward_list, actor, 99)"
   ]
  },
  {
   "cell_type": "code",
   "execution_count": 15,
   "metadata": {},
   "outputs": [],
   "source": [
    "# entity series\n",
    "# in order to specify which entity is being targeted\n",
    "\n",
    "# shortcuts:\n",
    "# - currently based on the location series, if there is only one entity in a space, the entity is automatically targeted\n",
    "# - only if there are multiple entities in a space, the entity series is used to determine the target"
   ]
  },
  {
   "cell_type": "code",
   "execution_count": null,
   "metadata": {},
   "outputs": [],
   "source": [
    "entity_series_generator = RuleBasedEntitySequenceDFS(action_location_object_reward_series_full_list = post_object_reward_list,\n",
    "                                                     target_distance_scores = target_distance_scores,\n",
    "                                                     entity_rules = entity_rules,\n",
    "                                                     acting_entity = actor)\n",
    "entity_series_generator.generate_entity_sequences()"
   ]
  },
  {
   "cell_type": "code",
   "execution_count": 17,
   "metadata": {},
   "outputs": [],
   "source": [
    "action_location_object_entity_reward_series_full_list = entity_series_generator.generate_entity_sequences()"
   ]
  },
  {
   "cell_type": "code",
   "execution_count": null,
   "metadata": {},
   "outputs": [],
   "source": [
    "action_location_object_entity_reward_series_full_list"
   ]
  },
  {
   "cell_type": "code",
   "execution_count": null,
   "metadata": {},
   "outputs": [],
   "source": [
    "action_location_object_entity_reward_series_full_list = calc_new_reward(action_location_object_entity_reward_series_full_list, actor)"
   ]
  },
  {
   "cell_type": "code",
   "execution_count": null,
   "metadata": {},
   "outputs": [],
   "source": [
    "analyze_reward_distribution_series(action_location_object_entity_reward_series_full_list, actor, 99)"
   ]
  },
  {
   "cell_type": "code",
   "execution_count": null,
   "metadata": {},
   "outputs": [],
   "source": [
    "# spell series\n"
   ]
  },
  {
   "cell_type": "code",
   "execution_count": 24,
   "metadata": {},
   "outputs": [],
   "source": [
    "#post_object_reward_list = post_obj_reward_series_calc(action_series_full_list = action_series_full_list, \n",
    "#                                                      location_series_full_list = location_series_full_list, \n",
    "#                                                      object_series_full_list = object_series_full_list, \n",
    "#                                                      reward_series_full_list = reward_series_full_list, \n",
    "#                                                      acting_entity = actor)\n",
    "\n",
    "# this one will include how much damage is being dealt\n",
    "# if an effective weapon is equipped\n",
    "# how many coins are picked up"
   ]
  },
  {
   "cell_type": "code",
   "execution_count": 26,
   "metadata": {},
   "outputs": [],
   "source": [
    "# processing a round of combat that includes the queue of actions and possible reactions other entities take"
   ]
  },
  {
   "cell_type": "code",
   "execution_count": 27,
   "metadata": {},
   "outputs": [],
   "source": [
    "# what needs to happen before I can be running combat?\n",
    "# - the function to process a creature's turn needs to be done\n",
    "# - the function to process everyone else's reaction needs to be operational\n",
    "# - enemies need to be able to take their turn, currently they operate as a form of static entity\n",
    "\n"
   ]
  },
  {
   "cell_type": "code",
   "execution_count": 28,
   "metadata": {},
   "outputs": [],
   "source": [
    "# what needs to happen before the next stage?\n",
    "# - combat situations needs to be randomly generated\n",
    "# - combat scenarios need to be ran millions of times"
   ]
  }
 ],
 "metadata": {
  "kernelspec": {
   "display_name": "Python 3",
   "language": "python",
   "name": "python3"
  },
  "language_info": {
   "codemirror_mode": {
    "name": "ipython",
    "version": 3
   },
   "file_extension": ".py",
   "mimetype": "text/x-python",
   "name": "python",
   "nbconvert_exporter": "python",
   "pygments_lexer": "ipython3",
   "version": "3.12.0"
  }
 },
 "nbformat": 4,
 "nbformat_minor": 2
}
