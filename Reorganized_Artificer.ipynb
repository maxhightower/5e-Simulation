{
 "cells": [
  {
   "cell_type": "markdown",
   "metadata": {},
   "source": [
    "# Artificer"
   ]
  },
  {
   "cell_type": "code",
   "execution_count": 2,
   "metadata": {},
   "outputs": [
    {
     "ename": "ModuleNotFoundError",
     "evalue": "No module named 'Reorganized_Dice_Rolls_plus'",
     "output_type": "error",
     "traceback": [
      "\u001b[1;31m---------------------------------------------------------------------------\u001b[0m",
      "\u001b[1;31mModuleNotFoundError\u001b[0m                       Traceback (most recent call last)",
      "Cell \u001b[1;32mIn[2], line 4\u001b[0m\n\u001b[0;32m      1\u001b[0m \u001b[38;5;66;03m#import Establishing_Hierarchy\u001b[39;00m\n\u001b[0;32m      2\u001b[0m \u001b[38;5;66;03m#import Dice_Rolls\u001b[39;00m\n\u001b[1;32m----> 4\u001b[0m \u001b[38;5;28;01mimport\u001b[39;00m \u001b[38;5;21;01mReorganized_Dice_Rolls_plus\u001b[39;00m\u001b[38;5;21;01m.\u001b[39;00m\u001b[38;5;21;01mipynb\u001b[39;00m\n\u001b[0;32m      6\u001b[0m \u001b[38;5;28;01mimport\u001b[39;00m \u001b[38;5;21;01mSpell_Data\u001b[39;00m\n\u001b[0;32m      7\u001b[0m \u001b[38;5;28;01mimport\u001b[39;00m \u001b[38;5;21;01mSpells\u001b[39;00m\n",
      "\u001b[1;31mModuleNotFoundError\u001b[0m: No module named 'Reorganized_Dice_Rolls_plus'"
     ]
    }
   ],
   "source": [
    "#import Establishing_Hierarchy\n",
    "#import Dice_Rolls\n",
    "\n",
    "import Reorganized_Dice_Rolls_plus\n",
    "\n",
    "import Spell_Data\n",
    "import Spells\n",
    "import Effects\n",
    "import Character_Functions\n",
    "import Character_Actions\n",
    "import Armor_and_Weapons\n",
    "import Backgrounds\n",
    "\n",
    "import random\n",
    "\n",
    "from Dice_Rolls import Current_Allied_Ability_Check\n",
    "from Dice_Rolls import Current_Allied_Attack_Roll\n",
    "from Dice_Rolls import Current_Allied_Saving_Throw\n",
    "from Dice_Rolls import Current_Allied_Damage_Roll\n",
    "\n",
    "from Dice_Rolls import Current_Enemy_Ability_Check\n",
    "from Dice_Rolls import Current_Enemy_Attack_Roll\n",
    "from Dice_Rolls import Current_Enemy_Saving_Throw\n",
    "from Dice_Rolls import Current_Enemy_Damage_Roll\n",
    "\n",
    "import pandas"
   ]
  }
 ],
 "metadata": {
  "kernelspec": {
   "display_name": "Python 3",
   "language": "python",
   "name": "python3"
  },
  "language_info": {
   "codemirror_mode": {
    "name": "ipython",
    "version": 3
   },
   "file_extension": ".py",
   "mimetype": "text/x-python",
   "name": "python",
   "nbconvert_exporter": "python",
   "pygments_lexer": "ipython3",
   "version": "3.12.0"
  }
 },
 "nbformat": 4,
 "nbformat_minor": 2
}
