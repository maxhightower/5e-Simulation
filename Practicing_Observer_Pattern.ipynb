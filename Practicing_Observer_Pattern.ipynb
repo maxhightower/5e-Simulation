{
 "cells": [
  {
   "cell_type": "code",
   "execution_count": 1,
   "metadata": {},
   "outputs": [],
   "source": [
    "# Practicing Observer Design Pattern"
   ]
  },
  {
   "cell_type": "code",
   "execution_count": 2,
   "metadata": {},
   "outputs": [],
   "source": [
    "# Practicing with Observer Pattern\n",
    "\n",
    "###### Observer Pattern ######\n",
    "\n",
    "class Observable:\n",
    "    def __init__(self):\n",
    "        self.observers = []\n",
    "\n",
    "    def add_observer(self, observer):\n",
    "        if observer not in self.observers:\n",
    "            self.observers.append(observer)\n",
    "\n",
    "    def remove_observer(self, observer):\n",
    "        if observer in self.observers:\n",
    "            self.observers.remove(observer)\n",
    "\n",
    "    def notify_observers(self, *args, **kwargs):\n",
    "        for observer in self.observers:\n",
    "            observer.update(self, *args, **kwargs)\n",
    "\n",
    "class Observer:\n",
    "    def update(self, observable, *args, **kwargs):\n",
    "        pass\n"
   ]
  },
  {
   "cell_type": "code",
   "execution_count": 3,
   "metadata": {},
   "outputs": [],
   "source": [
    "class WeatherStation(Observable):\n",
    "    def set_temperature(self, temperature):\n",
    "        self.temperature = temperature\n",
    "        self.notify_observers()\n",
    "\n",
    "class PhoneDisplay(Observer):\n",
    "    def update(self, observable, *args, **kwargs):\n",
    "        if isinstance(observable, WeatherStation):\n",
    "            temperature = observable.temperature\n",
    "            print(f\"Temperature is {temperature} degrees Celsius\")"
   ]
  },
  {
   "cell_type": "code",
   "execution_count": 4,
   "metadata": {},
   "outputs": [],
   "source": [
    "weather_station = WeatherStation()\n",
    "phone_display = PhoneDisplay()"
   ]
  },
  {
   "cell_type": "code",
   "execution_count": 5,
   "metadata": {},
   "outputs": [
    {
     "name": "stdout",
     "output_type": "stream",
     "text": [
      "Temperature is 25 degrees Celsius\n"
     ]
    }
   ],
   "source": [
    "weather_station.add_observer(phone_display)\n",
    "weather_station.set_temperature(25)"
   ]
  },
  {
   "cell_type": "code",
   "execution_count": null,
   "metadata": {},
   "outputs": [],
   "source": []
  }
 ],
 "metadata": {
  "kernelspec": {
   "display_name": "Python 3",
   "language": "python",
   "name": "python3"
  },
  "language_info": {
   "codemirror_mode": {
    "name": "ipython",
    "version": 3
   },
   "file_extension": ".py",
   "mimetype": "text/x-python",
   "name": "python",
   "nbconvert_exporter": "python",
   "pygments_lexer": "ipython3",
   "version": "3.12.0"
  }
 },
 "nbformat": 4,
 "nbformat_minor": 2
}
