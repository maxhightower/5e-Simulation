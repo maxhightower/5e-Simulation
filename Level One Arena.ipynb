{
 "cells": [
  {
   "cell_type": "code",
   "execution_count": 15,
   "metadata": {},
   "outputs": [
    {
     "ename": "AttributeError",
     "evalue": "partially initialized module 'pygame' has no attribute 'color' (most likely due to a circular import)",
     "output_type": "error",
     "traceback": [
      "\u001b[1;31m---------------------------------------------------------------------------\u001b[0m",
      "\u001b[1;31mAttributeError\u001b[0m                            Traceback (most recent call last)",
      "Cell \u001b[1;32mIn[15], line 20\u001b[0m\n\u001b[0;32m     18\u001b[0m \u001b[38;5;28;01mfrom\u001b[39;00m \u001b[38;5;21;01mmpl_toolkits\u001b[39;00m \u001b[38;5;28;01mimport\u001b[39;00m mplot3d\n\u001b[0;32m     19\u001b[0m \u001b[38;5;28;01mimport\u001b[39;00m \u001b[38;5;21;01mmatplotlib\u001b[39;00m\u001b[38;5;21;01m.\u001b[39;00m\u001b[38;5;21;01mpatches\u001b[39;00m \u001b[38;5;28;01mas\u001b[39;00m \u001b[38;5;21;01mmpatches\u001b[39;00m\n\u001b[1;32m---> 20\u001b[0m \u001b[38;5;28;01mimport\u001b[39;00m \u001b[38;5;21;01mpygame\u001b[39;00m\n",
      "File \u001b[1;32mc:\\Users\\maxhi\\AppData\\Local\\Programs\\Python\\Python312\\Lib\\site-packages\\pygame\\__init__.py:100\u001b[0m\n\u001b[0;32m     97\u001b[0m \u001b[38;5;28;01mimport\u001b[39;00m \u001b[38;5;21;01mpygame\u001b[39;00m\u001b[38;5;21;01m.\u001b[39;00m\u001b[38;5;21;01msurflock\u001b[39;00m\n\u001b[0;32m     98\u001b[0m \u001b[38;5;28;01mimport\u001b[39;00m \u001b[38;5;21;01mpygame\u001b[39;00m\u001b[38;5;21;01m.\u001b[39;00m\u001b[38;5;21;01mcolor\u001b[39;00m\n\u001b[1;32m--> 100\u001b[0m Color \u001b[38;5;241m=\u001b[39m \u001b[43mpygame\u001b[49m\u001b[38;5;241;43m.\u001b[39;49m\u001b[43mcolor\u001b[49m\u001b[38;5;241m.\u001b[39mColor\n\u001b[0;32m    101\u001b[0m \u001b[38;5;28;01mimport\u001b[39;00m \u001b[38;5;21;01mpygame\u001b[39;00m\u001b[38;5;21;01m.\u001b[39;00m\u001b[38;5;21;01mbufferproxy\u001b[39;00m\n\u001b[0;32m    103\u001b[0m BufferProxy \u001b[38;5;241m=\u001b[39m pygame\u001b[38;5;241m.\u001b[39mbufferproxy\u001b[38;5;241m.\u001b[39mBufferProxy\n",
      "\u001b[1;31mAttributeError\u001b[0m: partially initialized module 'pygame' has no attribute 'color' (most likely due to a circular import)"
     ]
    }
   ],
   "source": [
    "import Species\n",
    "import Backgrounds\n",
    "import Armor_and_Weapons\n",
    "import Dice_Rolls\n",
    "import Establishing_Hierarchy\n",
    "import CHARACTER_CREATOR\n",
    " \n",
    "import numpy as np\n",
    "import pandas as pd\n",
    "import random\n",
    "from random import randrange\n",
    "import requests\n",
    "import json\n",
    "import sys\n",
    "import time\n",
    "import math\n",
    "from matplotlib import pyplot as plt\n",
    "from mpl_toolkits import mplot3d\n",
    "import matplotlib.patches as mpatches\n",
    "import pygame"
   ]
  },
  {
   "cell_type": "code",
   "execution_count": null,
   "metadata": {},
   "outputs": [
    {
     "ename": "NameError",
     "evalue": "name 'pygame' is not defined",
     "output_type": "error",
     "traceback": [
      "\u001b[1;31m---------------------------------------------------------------------------\u001b[0m",
      "\u001b[1;31mNameError\u001b[0m                                 Traceback (most recent call last)",
      "Cell \u001b[1;32mIn[11], line 5\u001b[0m\n\u001b[0;32m      2\u001b[0m arena \u001b[38;5;241m=\u001b[39m np\u001b[38;5;241m.\u001b[39mzeros((\u001b[38;5;241m256\u001b[39m, \u001b[38;5;241m256\u001b[39m))\n\u001b[0;32m      4\u001b[0m \u001b[38;5;66;03m# use the pygame library to create a window that will display the grid\u001b[39;00m\n\u001b[1;32m----> 5\u001b[0m \u001b[43mpygame\u001b[49m\u001b[38;5;241m.\u001b[39minit()\n\u001b[0;32m      6\u001b[0m screen \u001b[38;5;241m=\u001b[39m pygame\u001b[38;5;241m.\u001b[39mdisplay\u001b[38;5;241m.\u001b[39mset_mode((\u001b[38;5;241m256\u001b[39m, \u001b[38;5;241m256\u001b[39m))\n\u001b[0;32m      7\u001b[0m pygame\u001b[38;5;241m.\u001b[39mdisplay\u001b[38;5;241m.\u001b[39mset_caption(\u001b[38;5;124m\"\u001b[39m\u001b[38;5;124mArena\u001b[39m\u001b[38;5;124m\"\u001b[39m)\n",
      "\u001b[1;31mNameError\u001b[0m: name 'pygame' is not defined"
     ]
    }
   ],
   "source": [
    "# I want to create a 256 x 256 grid of tiles that can be occupied by an entity\n",
    "arena = np.zeros((256, 256))\n",
    "\n",
    "# use the pygame library to create a window that will display the grid\n",
    "pygame.init()\n",
    "screen = pygame.display.set_mode((256, 256))\n",
    "pygame.display.set_caption(\"Arena\")\n",
    "\n",
    "# create a 256 x 256 grid of tiles that can be occupied by an entity\n",
    "tile_size = 16\n",
    "tiles = []\n",
    "for i in range(16):\n",
    "    for j in range(16):\n",
    "        tiles.append(pygame.Rect(i * tile_size, j * tile_size, tile_size, tile_size))\n",
    "\n",
    "# randomly create 3 Characters and place them on the grid\n",
    "characters = [CHARACTER_CREATOR.Random_Character(), CHARACTER_CREATOR.Random_Character(), CHARACTER_CREATOR.Random_Character()]\n",
    "print('characters')\n",
    "print(characters)\n",
    "\n",
    "for i in range(len(characters)):\n",
    "    # no character can occupy the same tile as another character\n",
    "    occupied = True\n",
    "    while occupied:\n",
    "        occupied = False\n",
    "        characters[i].x = randrange(0, 256, 16)\n",
    "        characters[i].y = randrange(0, 256, 16)\n",
    "        for j in range(i):\n",
    "            if characters[i].x == characters[j].x and characters[i].y == characters[j].y:\n",
    "                occupied = True\n",
    "    \n",
    "    # set the width and height of the character\n",
    "    characters[i].width = 16\n",
    "    characters[i].height = 16\n",
    "\n",
    "    \n",
    "for i in range(len(characters)):\n",
    "    print('character ' + str(i))\n",
    "    print('Name: ',characters[i].Name)\n",
    "    print('Health: ', characters[i].HP)\n",
    "    print('Class: ', characters[i].First_Class)\n",
    "    print('Weapons: ', characters[i].Weapon_Equipped)\n",
    "    # print a list of their attributes strength, agility, constitution, intelligence, wisdom, charisma\n",
    "    attributes = [characters[i].Str_Score, characters[i].Dex_Score, characters[i].Con_Score, characters[i].Int_Score, characters[i].Wis_Score, characters[i].Cha_Score]\n",
    "    print('Attributes: ',attributes)\n",
    "    print('')\n"
   ]
  }
 ],
 "metadata": {
  "kernelspec": {
   "display_name": "Python 3",
   "language": "python",
   "name": "python3"
  },
  "language_info": {
   "codemirror_mode": {
    "name": "ipython",
    "version": 3
   },
   "file_extension": ".py",
   "mimetype": "text/x-python",
   "name": "python",
   "nbconvert_exporter": "python",
   "pygments_lexer": "ipython3",
   "version": "3.12.0"
  }
 },
 "nbformat": 4,
 "nbformat_minor": 2
}
