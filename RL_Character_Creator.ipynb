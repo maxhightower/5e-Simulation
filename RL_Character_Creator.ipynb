{
 "cells": [
  {
   "cell_type": "code",
   "execution_count": null,
   "metadata": {},
   "outputs": [],
   "source": [
    "### Recreating Character Creator but for compatibility with Reinfocement Learning"
   ]
  },
  {
   "cell_type": "code",
   "execution_count": null,
   "metadata": {},
   "outputs": [],
   "source": [
    "import Establishing_Hierarchy\n",
    "#import Character_Functions\n",
    "import random\n",
    "import Backgrounds\n",
    "import Species as s\n",
    "import Armor_and_Weapons\n",
    "import Dice_Rolls\n",
    "#import Effects\n",
    "#import Conditions\n",
    "#import Spell_Data\n"
   ]
  },
  {
   "cell_type": "code",
   "execution_count": null,
   "metadata": {},
   "outputs": [],
   "source": [
    "\n",
    "import Artificer\n",
    "from Artificer import Run_Artificer\n",
    "\n",
    "import Barbarian\n",
    "from Barbarian import Run_Barbarian\n",
    "\n",
    "import Bard\n",
    "from Bard import Run_Bard\n",
    "\n",
    "import Cleric\n",
    "from Cleric import Run_Cleric\n",
    "\n",
    "import Druid\n",
    "from Druid import Run_Druid\n",
    "\n",
    "import Fighter\n",
    "from Fighter import Run_Fighter\n",
    "\n",
    "import Monk\n",
    "from Monk import Run_Monk\n",
    "\n",
    "import Paladin\n",
    "from Paladin import Run_Paladin\n",
    "\n",
    "import Ranger\n",
    "from Ranger import Run_Ranger\n",
    "\n",
    "import Rogue\n",
    "from Rogue import Run_Rogue\n",
    "\n",
    "import Sorcerer\n",
    "from Sorcerer import Run_Sorcerer\n",
    "\n",
    "import Warlock\n",
    "from Warlock import Run_Warlock\n",
    "\n",
    "import Wizard\n",
    "from Wizard import Run_Wizard\n"
   ]
  },
  {
   "cell_type": "code",
   "execution_count": null,
   "metadata": {},
   "outputs": [],
   "source": [
    "# race\n",
    "races_available = []\n",
    "# background\n",
    "# class\n",
    "# attributes\n",
    "# equipment"
   ]
  },
  {
   "cell_type": "code",
   "execution_count": null,
   "metadata": {},
   "outputs": [],
   "source": []
  }
 ],
 "metadata": {
  "language_info": {
   "name": "python"
  }
 },
 "nbformat": 4,
 "nbformat_minor": 2
}
