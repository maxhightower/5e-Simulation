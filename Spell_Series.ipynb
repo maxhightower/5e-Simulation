{
 "cells": [
  {
   "cell_type": "code",
   "execution_count": null,
   "metadata": {},
   "outputs": [],
   "source": [
    "# Spell_Series???"
   ]
  },
  {
   "cell_type": "code",
   "execution_count": null,
   "metadata": {},
   "outputs": [],
   "source": [
    "import numpy as np\n",
    "\n",
    "import DFS_Functions\n",
    "import DFS_World_States\n",
    "from DFS_Functions import adjacent_locations, chebyshev_distance, bresenham_line, calculate_full_path, check_opportunity_attacks, is_line_of_sight_clear, check_visibility, generate_pseudo_history\n",
    "from DFS_World_States import world, world_grid_states\n",
    "\n",
    "import DFS_Action_Series\n",
    "\n",
    "from DFS_Universal_Rules import action_subactions, move_subactions, action_subactions, attack_subactions, free_subactions, subactions_req_targets, object_subactions, target_distance_scores, subactions_req_objects\n",
    "\n"
   ]
  },
  {
   "cell_type": "code",
   "execution_count": null,
   "metadata": {},
   "outputs": [],
   "source": [
    "# the idea is that if the cast subaction (14) is in the action_series, this function will be called...\n",
    "# this function will create a number of duplicates of all act_loc_obj_series with the cast subaction,\n",
    "# and the cast series will be the various spells that the character could cast"
   ]
  },
  {
   "cell_type": "code",
   "execution_count": null,
   "metadata": {},
   "outputs": [],
   "source": [
    "# the cast series may require it's own:\n",
    "# - location series\n",
    "# - object series\n",
    "# - entity series\n",
    "# ... and that could be a lot...\n",
    "\n",
    "# so the representation of a spell being cast would look like\n",
    "        # [[action_series],[location_series],[object_series],[entity_series],[spell_series], etc...] from the outside\n",
    "\n",
    "# and \n",
    "        # [for each spell cast in an action_series: \n",
    "        #                       [specific_spell_subclass,\n",
    "        #                       [spell_options_if_any],         # hardcoded such as shape water or open ended such as suggestion\n",
    "        #                       [list_of_locations_it_can_target], \n",
    "        #                       [list_of_objects_it_can_target], \n",
    "        #                       [list_of_entities_it_can_target], \n",
    "        #                       ...\n",
    "        # ] from the inside\n",
    "\n",
    "\n"
   ]
  },
  {
   "cell_type": "code",
   "execution_count": null,
   "metadata": {},
   "outputs": [],
   "source": []
  },
  {
   "cell_type": "code",
   "execution_count": null,
   "metadata": {},
   "outputs": [],
   "source": [
    "# Spell Series Rules:\n",
    "# - spell slots\n",
    "# - casting focus\n",
    "# - hand requirements\n",
    "# - sight required\n",
    "# - spells per turn\n",
    "# - \n",
    "\n"
   ]
  }
 ],
 "metadata": {
  "language_info": {
   "name": "python"
  }
 },
 "nbformat": 4,
 "nbformat_minor": 2
}
